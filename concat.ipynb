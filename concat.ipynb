{
 "cells": [
  {
   "cell_type": "markdown",
   "metadata": {},
   "source": [
    "#### Import Libraries and Dependencies "
   ]
  },
  {
   "cell_type": "code",
   "execution_count": 1,
   "metadata": {},
   "outputs": [],
   "source": [
    "import pandas as pd\n",
    "from pathlib import Path"
   ]
  },
  {
   "cell_type": "markdown",
   "metadata": {},
   "source": [
    "#### Read in Files "
   ]
  },
  {
   "cell_type": "code",
   "execution_count": 21,
   "metadata": {},
   "outputs": [],
   "source": [
    "# Import data\n",
    "# C:\\Users\\admin\\Desktop\\FinTech\\FinTech2022_Module4_Quantitative Analysis_Pandas\\Class_1_Activities\\01-Ins_Concat\\Resources\n",
    "f_path = Path(\"../../FinTech/FinTech2022_Module4_Quantitative Analysis_Pandas/Class_1_Activities/01-Ins_Concat/Resources/F.csv\")\n",
    "gm_path = Path(\"../../FinTech/FinTech2022_Module4_Quantitative Analysis_Pandas/Class_1_Activities/01-Ins_Concat/Resources/GM.csv\")\n",
    "tsla_path = Path(\"../../FinTech/FinTech2022_Module4_Quantitative Analysis_Pandas/Class_1_Activities/01-Ins_Concat/Resources/TSLA.csv\")\n",
    "\n",
    "# Read in data and index by date\n",
    "f_data = pd.read_csv(f_path, index_col='Date')\n",
    "gm_data = pd.read_csv(gm_path, index_col='Date')\n",
    "tsla_data = pd.read_csv(tsla_path, index_col='Date')"
   ]
  },
  {
   "cell_type": "markdown",
   "metadata": {},
   "source": [
    "#### Output of sample data"
   ]
  },
  {
   "cell_type": "code",
   "execution_count": 19,
   "metadata": {},
   "outputs": [
    {
     "data": {
      "text/html": [
       "<div>\n",
       "<style scoped>\n",
       "    .dataframe tbody tr th:only-of-type {\n",
       "        vertical-align: middle;\n",
       "    }\n",
       "\n",
       "    .dataframe tbody tr th {\n",
       "        vertical-align: top;\n",
       "    }\n",
       "\n",
       "    .dataframe thead th {\n",
       "        text-align: right;\n",
       "    }\n",
       "</style>\n",
       "<table border=\"1\" class=\"dataframe\">\n",
       "  <thead>\n",
       "    <tr style=\"text-align: right;\">\n",
       "      <th></th>\n",
       "      <th>Open</th>\n",
       "      <th>High</th>\n",
       "      <th>Low</th>\n",
       "      <th>Close</th>\n",
       "      <th>Volume</th>\n",
       "    </tr>\n",
       "    <tr>\n",
       "      <th>Date</th>\n",
       "      <th></th>\n",
       "      <th></th>\n",
       "      <th></th>\n",
       "      <th></th>\n",
       "      <th></th>\n",
       "    </tr>\n",
       "  </thead>\n",
       "  <tbody>\n",
       "    <tr>\n",
       "      <th>1/2/2018</th>\n",
       "      <td>12.52</td>\n",
       "      <td>12.66</td>\n",
       "      <td>12.50</td>\n",
       "      <td>12.66</td>\n",
       "      <td>20773320</td>\n",
       "    </tr>\n",
       "    <tr>\n",
       "      <th>1/3/2018</th>\n",
       "      <td>12.68</td>\n",
       "      <td>12.80</td>\n",
       "      <td>12.67</td>\n",
       "      <td>12.76</td>\n",
       "      <td>29765638</td>\n",
       "    </tr>\n",
       "    <tr>\n",
       "      <th>1/4/2018</th>\n",
       "      <td>12.78</td>\n",
       "      <td>13.04</td>\n",
       "      <td>12.77</td>\n",
       "      <td>12.98</td>\n",
       "      <td>37478200</td>\n",
       "    </tr>\n",
       "    <tr>\n",
       "      <th>1/5/2018</th>\n",
       "      <td>13.06</td>\n",
       "      <td>13.22</td>\n",
       "      <td>13.04</td>\n",
       "      <td>13.20</td>\n",
       "      <td>46121873</td>\n",
       "    </tr>\n",
       "    <tr>\n",
       "      <th>1/8/2018</th>\n",
       "      <td>13.21</td>\n",
       "      <td>13.22</td>\n",
       "      <td>13.11</td>\n",
       "      <td>13.15</td>\n",
       "      <td>33828330</td>\n",
       "    </tr>\n",
       "  </tbody>\n",
       "</table>\n",
       "</div>"
      ],
      "text/plain": [
       "           Open   High    Low  Close    Volume\n",
       "Date                                          \n",
       "1/2/2018  12.52  12.66  12.50  12.66  20773320\n",
       "1/3/2018  12.68  12.80  12.67  12.76  29765638\n",
       "1/4/2018  12.78  13.04  12.77  12.98  37478200\n",
       "1/5/2018  13.06  13.22  13.04  13.20  46121873\n",
       "1/8/2018  13.21  13.22  13.11  13.15  33828330"
      ]
     },
     "execution_count": 19,
     "metadata": {},
     "output_type": "execute_result"
    }
   ],
   "source": [
    "# Show sample of Ford data\n",
    "# dffs = f_data.head(10), gm_data.head(10), tsla_data.head(10)\n",
    "f_data.head()\n"
   ]
  },
  {
   "cell_type": "code",
   "execution_count": 15,
   "metadata": {},
   "outputs": [],
   "source": [
    "# Show sample of General Motors data\n"
   ]
  },
  {
   "cell_type": "code",
   "execution_count": 5,
   "metadata": {},
   "outputs": [],
   "source": [
    "# Show sample of Tesla data\n"
   ]
  },
  {
   "cell_type": "markdown",
   "metadata": {},
   "source": [
    "#### Concatenate data by rows using concat function and inner join"
   ]
  },
  {
   "cell_type": "code",
   "execution_count": 6,
   "metadata": {},
   "outputs": [],
   "source": [
    "# Join by rows axis\n"
   ]
  },
  {
   "cell_type": "markdown",
   "metadata": {},
   "source": [
    "#### Concatenate data by columns using concat function and inner join"
   ]
  },
  {
   "cell_type": "code",
   "execution_count": 7,
   "metadata": {},
   "outputs": [],
   "source": [
    "# Join by columns axis\n"
   ]
  },
  {
   "cell_type": "code",
   "execution_count": null,
   "metadata": {},
   "outputs": [],
   "source": []
  }
 ],
 "metadata": {
  "kernelspec": {
   "display_name": "Python (dev)",
   "language": "python",
   "name": "dev"
  },
  "language_info": {
   "codemirror_mode": {
    "name": "ipython",
    "version": 3
   },
   "file_extension": ".py",
   "mimetype": "text/x-python",
   "name": "python",
   "nbconvert_exporter": "python",
   "pygments_lexer": "ipython3",
   "version": "3.9.15"
  }
 },
 "nbformat": 4,
 "nbformat_minor": 4
}
