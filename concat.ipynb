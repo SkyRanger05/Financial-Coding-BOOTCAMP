{
 "cells": [
  {
   "cell_type": "markdown",
   "metadata": {},
   "source": [
    "#### Import Libraries and Dependencies "
   ]
  },
  {
   "cell_type": "code",
   "execution_count": 1,
   "metadata": {},
   "outputs": [],
   "source": [
    "import pandas as pd\n",
    "from pathlib import Path"
   ]
  },
  {
   "cell_type": "markdown",
   "metadata": {},
   "source": [
    "#### Read in Files "
   ]
  },
  {
   "cell_type": "code",
   "execution_count": 2,
   "metadata": {},
   "outputs": [],
   "source": [
    "# Import data\n",
    "# C:\\Users\\admin\\Desktop\\FinTech\\FinTech2022_Module4_Quantitative Analysis_Pandas\\Class_1_Activities\\01-Ins_Concat\\Resources\n",
    "f_path = Path(\"../../FinTech/FinTech2022_Module4_Quantitative Analysis_Pandas/Class_1_Activities/01-Ins_Concat/Resources/F.csv\")\n",
    "gm_path = Path(\"../../FinTech/FinTech2022_Module4_Quantitative Analysis_Pandas/Class_1_Activities/01-Ins_Concat/Resources/GM.csv\")\n",
    "tsla_path = Path(\"../../FinTech/FinTech2022_Module4_Quantitative Analysis_Pandas/Class_1_Activities/01-Ins_Concat/Resources/TSLA.csv\")\n",
    "\n",
    "# Read in data and index by date\n",
    "f_data = pd.read_csv(f_path, index_col='Date')\n",
    "gm_data = pd.read_csv(gm_path, index_col='Date')\n",
    "tsla_data = pd.read_csv(tsla_path, index_col='Date')"
   ]
  },
  {
   "cell_type": "markdown",
   "metadata": {},
   "source": [
    "#### Output of sample data"
   ]
  },
  {
   "cell_type": "code",
   "execution_count": 3,
   "metadata": {},
   "outputs": [],
   "source": [
    "# Show sample of Ford data\n"
   ]
  },
  {
   "cell_type": "code",
   "execution_count": 4,
   "metadata": {},
   "outputs": [],
   "source": [
    "# Show sample of General Motors data\n"
   ]
  },
  {
   "cell_type": "code",
   "execution_count": 5,
   "metadata": {},
   "outputs": [],
   "source": [
    "# Show sample of Tesla data\n"
   ]
  },
  {
   "cell_type": "markdown",
   "metadata": {},
   "source": [
    "#### Concatenate data by rows using concat function and inner join"
   ]
  },
  {
   "cell_type": "code",
   "execution_count": 6,
   "metadata": {},
   "outputs": [],
   "source": [
    "# Join by rows axis\n"
   ]
  },
  {
   "cell_type": "markdown",
   "metadata": {},
   "source": [
    "#### Concatenate data by columns using concat function and inner join"
   ]
  },
  {
   "cell_type": "code",
   "execution_count": 7,
   "metadata": {},
   "outputs": [],
   "source": [
    "# Join by columns axis\n"
   ]
  },
  {
   "cell_type": "code",
   "execution_count": null,
   "metadata": {},
   "outputs": [],
   "source": []
  }
 ],
 "metadata": {
  "kernelspec": {
   "display_name": "Python (dev)",
   "language": "python",
   "name": "dev"
  },
  "language_info": {
   "codemirror_mode": {
    "name": "ipython",
    "version": 3
   },
   "file_extension": ".py",
   "mimetype": "text/x-python",
   "name": "python",
   "nbconvert_exporter": "python",
   "pygments_lexer": "ipython3",
   "version": "3.9.15"
  }
 },
 "nbformat": 4,
 "nbformat_minor": 4
}
