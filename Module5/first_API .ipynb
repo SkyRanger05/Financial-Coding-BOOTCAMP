{
 "cells": [
  {
   "cell_type": "code",
   "execution_count": 1,
   "id": "473e05c4-e4d4-425f-91c1-f9dc7085354a",
   "metadata": {},
   "outputs": [],
   "source": [
    "# Import the required libraries and dependencies\n",
    "import pandas as pd\n",
    "import requests\n",
    "import json"
   ]
  },
  {
   "cell_type": "markdown",
   "id": "182865cd-0132-4412-9caa-4bc8c63167d6",
   "metadata": {},
   "source": [
    "# Class notes\n",
    "df_portfolio_year[\"FB\"][\"vwap\"]\n",
    "\n",
    "df_portfolio_year.loc['2019-08', [(\"FB\", \"vwap\")]]"
   ]
  },
  {
   "cell_type": "code",
   "execution_count": 2,
   "id": "3d4b9ac7-d5da-4218-a3cc-add2f2142d7c",
   "metadata": {},
   "outputs": [
    {
     "name": "stdout",
     "output_type": "stream",
     "text": [
      "{\n",
      "    \"data\": {\n",
      "        \"52\": {\n",
      "            \"circulating_supply\": 50713323547,\n",
      "            \"id\": 52,\n",
      "            \"last_updated\": 1674105881,\n",
      "            \"max_supply\": 99989156648,\n",
      "            \"name\": \"XRP\",\n",
      "            \"quotes\": {\n",
      "                \"USD\": {\n",
      "                    \"market_cap\": 19426014532,\n",
      "                    \"percent_change_1h\": 0.553101106409133,\n",
      "                    \"percent_change_24h\": -1.21189019993905,\n",
      "                    \"percent_change_7d\": 2.10268128339163,\n",
      "                    \"percentage_change_1h\": 0.553101106409133,\n",
      "                    \"percentage_change_24h\": -1.21189019993905,\n",
      "                    \"percentage_change_7d\": 2.10268128339163,\n",
      "                    \"price\": 0.383057,\n",
      "                    \"volume_24h\": 1652679971\n",
      "                }\n",
      "            },\n",
      "            \"rank\": 6,\n",
      "            \"symbol\": \"XRP\",\n",
      "            \"total_supply\": 50713323547,\n",
      "            \"website_slug\": \"ripple\"\n",
      "        }\n",
      "    },\n",
      "    \"metadata\": {\n",
      "        \"error\": null,\n",
      "        \"num_cryptocurrencies\": 3119,\n",
      "        \"timestamp\": 1674105881\n",
      "    }\n",
      "}\n"
     ]
    }
   ],
   "source": [
    "# Make the API request\n",
    "# First step: get the \"endpoint\"/url and store it in a variable\n",
    "xrp_url = \"https://api.alternative.me/v2/ticker/Ripple/\"\n",
    "# Fetch the info desired.\n",
    "response = requests.get(xrp_url).json()\n",
    "\n",
    "# Display response data by parsing to \"human-readable\" form.\n",
    "print(json.dumps(response, indent=4, sort_keys=True))"
   ]
  },
  {
   "cell_type": "code",
   "execution_count": 3,
   "id": "3bdc05dd-8f6b-49a5-9077-2d69a1d7f724",
   "metadata": {},
   "outputs": [],
   "source": [
    "# JSON -> consists of a __*series*__ of nested dictionaries (that is, a dictionary inside of a dictionary inside a dictionary.\n",
    "# Key-Value pairs:\n",
    "# \"raw data\": {\"apples\": \"1\", \"car\": \"go zoom zoom\", \"college degrees\": \"ok\"}\n",
    "# \"Now what to do\" --> to access/navigate through the levels of nesting, reference key at each level in a set of brackets [].\n",
    "# {\"Now\": \"what\"}\n",
    "#         {\"what\": \"to\"}\n",
    "#                  {\"to\": \"do\"}\n",
    "#                         {\"do\": {\"exercise\": \"jogging\", \"household\": \"wash dishes}\n",
    "#                                }\n",
    "            "
   ]
  },
  {
   "cell_type": "code",
   "execution_count": 4,
   "id": "7314e57e-8141-4458-8585-b1ee0dd24e77",
   "metadata": {},
   "outputs": [],
   "source": [
    "# # Navigate to your chosen key\n",
    "# <new_var_descriptionnameofdesire> = makeAPIfetch[\"level 1 dict\"][\"level 2 dict\"][\"level \"n\" dict\"]"
   ]
  },
  {
   "cell_type": "code",
   "execution_count": 5,
   "id": "dc8f1e82-0362-4b47-8016-e0efc883db34",
   "metadata": {
    "jp-MarkdownHeadingCollapsed": true,
    "tags": []
   },
   "outputs": [
    {
     "data": {
      "text/plain": [
       "'XRP'"
      ]
     },
     "execution_count": 5,
     "metadata": {},
     "output_type": "execute_result"
    }
   ],
   "source": [
    "# Navigate: get the ticker symbol\n",
    "xrp_symbol = response[\"data\"][\"52\"][\"symbol\"]\n",
    "xrp_symbol"
   ]
  },
  {
   "cell_type": "code",
   "execution_count": 6,
   "id": "dd5af434-426a-4369-9124-13d80fc5d001",
   "metadata": {},
   "outputs": [
    {
     "data": {
      "text/plain": [
       "0.383057"
      ]
     },
     "execution_count": 6,
     "metadata": {},
     "output_type": "execute_result"
    }
   ],
   "source": [
    "# Navigate: get the price\n",
    "xrp_price = response[\"data\"][\"52\"][\"quotes\"][\"USD\"][\"price\"]\n",
    "xrp_price"
   ]
  },
  {
   "cell_type": "code",
   "execution_count": 7,
   "id": "78324d02-215a-4387-a5f9-e9b7f91f70e6",
   "metadata": {},
   "outputs": [
    {
     "name": "stdout",
     "output_type": "stream",
     "text": [
      "Ripple (ticker:XRP), pricing at $0.383057\n"
     ]
    }
   ],
   "source": [
    "print(f\"Ripple (ticker:{xrp_symbol}), pricing at ${xrp_price}\")"
   ]
  },
  {
   "cell_type": "code",
   "execution_count": 8,
   "id": "91f8a884-31a8-471a-bbf6-6a87772ff0e3",
   "metadata": {},
   "outputs": [
    {
     "name": "stdout",
     "output_type": "stream",
     "text": [
      "{\n",
      "    \"data\": {\n",
      "        \"2\": {\n",
      "            \"circulating_supply\": 72086983,\n",
      "            \"id\": 2,\n",
      "            \"last_updated\": 1674105889,\n",
      "            \"max_supply\": 84000000,\n",
      "            \"name\": \"Litecoin\",\n",
      "            \"quotes\": {\n",
      "                \"USD\": {\n",
      "                    \"market_cap\": 6018384070,\n",
      "                    \"percent_change_1h\": 0.167207578026876,\n",
      "                    \"percent_change_24h\": -4.79551906104937,\n",
      "                    \"percent_change_7d\": -1.00994798031233,\n",
      "                    \"percentage_change_1h\": 0.167207578026876,\n",
      "                    \"percentage_change_24h\": -4.79551906104937,\n",
      "                    \"percentage_change_7d\": -1.00994798031233,\n",
      "                    \"price\": 83.55,\n",
      "                    \"volume_24h\": 759836643\n",
      "                }\n",
      "            },\n",
      "            \"rank\": 15,\n",
      "            \"symbol\": \"LTC\",\n",
      "            \"total_supply\": 72086983,\n",
      "            \"website_slug\": \"litecoin\"\n",
      "        }\n",
      "    },\n",
      "    \"metadata\": {\n",
      "        \"error\": null,\n",
      "        \"num_cryptocurrencies\": 3119,\n",
      "        \"timestamp\": 1674105889\n",
      "    }\n",
      "}\n"
     ]
    }
   ],
   "source": [
    "# Set the Ripple endpoint.\n",
    "ltc_url = \"https://api.alternative.me/v2/ticker/Litecoin/\"\n",
    "# Fetch/make the call for the current Ripple price\n",
    "call_ltc = requests.get(ltc_url).json()\n",
    "# Display call in \"human-readable\" form like json: nested dictionaries.\n",
    "print(json.dumps(call_ltc, indent=4, sort_keys=True))"
   ]
  },
  {
   "cell_type": "markdown",
   "id": "73abd1b2-80e6-4d62-91c1-52504fb7afe8",
   "metadata": {},
   "source": [
    "# ?pd --> this is one of magic keys: ?\n",
    " effecient fontier theory"
   ]
  },
  {
   "cell_type": "markdown",
   "id": "6e9c2dae-806e-4848-a312-ee30be575f34",
   "metadata": {},
   "source": [
    "# %%timeit\n",
    "this is a magic command and need to be at the beginning of the cell"
   ]
  },
  {
   "cell_type": "markdown",
   "id": "9e670473-0685-4555-9135-dba5de6fd2dd",
   "metadata": {
    "jupyter": {
     "outputs_hidden": true
    },
    "tags": []
   },
   "source": [
    "# %env \n",
    "This is what inside of the package: %"
   ]
  },
  {
   "cell_type": "code",
   "execution_count": null,
   "id": "76fe54f8-bfee-4d0e-a4f0-9692e1592d5a",
   "metadata": {},
   "outputs": [],
   "source": []
  }
 ],
 "metadata": {
  "kernelspec": {
   "display_name": "Python (akobalay)",
   "language": "python",
   "name": "dev"
  },
  "language_info": {
   "codemirror_mode": {
    "name": "ipython",
    "version": 3
   },
   "file_extension": ".py",
   "mimetype": "text/x-python",
   "name": "python",
   "nbconvert_exporter": "python",
   "pygments_lexer": "ipython3",
   "version": "3.9.15"
  }
 },
 "nbformat": 4,
 "nbformat_minor": 5
}
