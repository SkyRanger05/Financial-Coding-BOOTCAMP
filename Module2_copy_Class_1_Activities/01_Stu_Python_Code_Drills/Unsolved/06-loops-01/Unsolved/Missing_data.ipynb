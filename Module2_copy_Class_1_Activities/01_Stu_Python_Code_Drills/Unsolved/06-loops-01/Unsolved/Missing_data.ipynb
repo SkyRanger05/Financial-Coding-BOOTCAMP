{
 "cells": [
  {
   "cell_type": "code",
   "execution_count": null,
   "id": "1da59ba6-f8de-412a-b7cd-2cfe8bb6d9ba",
   "metadata": {},
   "outputs": [],
   "source": []
  }
 ],
 "metadata": {
  "kernelspec": {
   "display_name": "Python (dev)",
   "language": "python",
   "name": "dev"
  },
  "language_info": {
   "codemirror_mode": {
    "name": "ipython",
    "version": 3
   },
   "file_extension": ".py",
   "mimetype": "text/x-python",
   "name": "python",
   "nbconvert_exporter": "python",
   "pygments_lexer": "ipython3",
   "version": "3.9.15"
  }
 },
 "nbformat": 4,
 "nbformat_minor": 5
}
