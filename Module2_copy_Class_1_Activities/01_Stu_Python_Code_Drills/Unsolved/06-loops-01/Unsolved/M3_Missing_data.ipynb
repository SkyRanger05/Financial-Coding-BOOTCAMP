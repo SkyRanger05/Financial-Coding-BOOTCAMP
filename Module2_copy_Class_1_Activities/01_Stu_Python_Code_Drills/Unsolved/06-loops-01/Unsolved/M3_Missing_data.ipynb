{
 "cells": [
  {
   "cell_type": "markdown",
   "id": "04e52c3c-638b-4075-bf89-1d626743742b",
   "metadata": {},
   "source": [
    "coding utc "
   ]
  },
  {
   "cell_type": "code",
   "execution_count": 1,
   "id": "10c9ca31-dc5d-4efa-ac16-33f0a454aa01",
   "metadata": {},
   "outputs": [],
   "source": [
    "# Head\n",
    "import pandas as pd\n",
    "from pathlib import Path"
   ]
  },
  {
   "cell_type": "code",
   "execution_count": 2,
   "id": "1c50e0c5-81ae-41b2-a52d-44dd29fcd002",
   "metadata": {},
   "outputs": [],
   "source": [
    "items_csv = Path(\"../../../../../../../FinTech-Workspace/PowerPoint_sample/Module3/01-Missing_Data/items.csv\")"
   ]
  },
  {
   "cell_type": "code",
   "execution_count": 3,
   "id": "9c3419f4-3c15-4b9c-be14-afc9b45fb8ae",
   "metadata": {},
   "outputs": [],
   "source": [
    "items_df = pd.read_csv(items_csv)"
   ]
  },
  {
   "cell_type": "code",
   "execution_count": 4,
   "id": "c5968144-927d-4b55-8a29-4b366917bdb1",
   "metadata": {},
   "outputs": [
    {
     "data": {
      "text/html": [
       "<div>\n",
       "<style scoped>\n",
       "    .dataframe tbody tr th:only-of-type {\n",
       "        vertical-align: middle;\n",
       "    }\n",
       "\n",
       "    .dataframe tbody tr th {\n",
       "        vertical-align: top;\n",
       "    }\n",
       "\n",
       "    .dataframe thead th {\n",
       "        text-align: right;\n",
       "    }\n",
       "</style>\n",
       "<table border=\"1\" class=\"dataframe\">\n",
       "  <thead>\n",
       "    <tr style=\"text-align: right;\">\n",
       "      <th></th>\n",
       "      <th>Item Number</th>\n",
       "      <th>Price</th>\n",
       "      <th>Quantity</th>\n",
       "    </tr>\n",
       "  </thead>\n",
       "  <tbody>\n",
       "    <tr>\n",
       "      <th>0</th>\n",
       "      <td>2468</td>\n",
       "      <td>2.99</td>\n",
       "      <td>250</td>\n",
       "    </tr>\n",
       "    <tr>\n",
       "      <th>1</th>\n",
       "      <td>1357</td>\n",
       "      <td>NaN</td>\n",
       "      <td>300</td>\n",
       "    </tr>\n",
       "    <tr>\n",
       "      <th>2</th>\n",
       "      <td>9753</td>\n",
       "      <td>3.47</td>\n",
       "      <td>350</td>\n",
       "    </tr>\n",
       "  </tbody>\n",
       "</table>\n",
       "</div>"
      ],
      "text/plain": [
       "   Item Number  Price   Quantity\n",
       "0         2468    2.99       250\n",
       "1         1357     NaN       300\n",
       "2         9753    3.47       350"
      ]
     },
     "execution_count": 4,
     "metadata": {},
     "output_type": "execute_result"
    }
   ],
   "source": [
    "items_df"
   ]
  },
  {
   "cell_type": "code",
   "execution_count": null,
   "id": "77457bba-f5ab-40e2-9d36-f1da9966fb05",
   "metadata": {},
   "outputs": [],
   "source": []
  }
 ],
 "metadata": {
  "kernelspec": {
   "display_name": "Python (dev)",
   "language": "python",
   "name": "dev"
  },
  "language_info": {
   "codemirror_mode": {
    "name": "ipython",
    "version": 3
   },
   "file_extension": ".py",
   "mimetype": "text/x-python",
   "name": "python",
   "nbconvert_exporter": "python",
   "pygments_lexer": "ipython3",
   "version": "3.9.15"
  }
 },
 "nbformat": 4,
 "nbformat_minor": 5
}
