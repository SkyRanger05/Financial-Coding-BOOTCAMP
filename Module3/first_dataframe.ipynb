{
 "cells": [
  {
   "cell_type": "markdown",
   "id": "68e43f28-6aed-4ff4-ada9-7b6c5f5e1d12",
   "metadata": {},
   "source": [
    "# This is an exercise about dataframe cleanup"
   ]
  },
  {
   "cell_type": "code",
   "execution_count": 4,
   "id": "777e0a21-ce66-41ce-8d1b-f3905127e45d",
   "metadata": {},
   "outputs": [],
   "source": [
    "# info about encoding\n",
    "# Import necessary libraries\n",
    "import pandas as pd\n",
    "from pathlib import Path"
   ]
  },
  {
   "cell_type": "code",
   "execution_count": 8,
   "id": "e2185292-e606-474c-93e4-b4ca7d395b61",
   "metadata": {},
   "outputs": [],
   "source": [
    "# Make the connection to the source file.\n",
    "dol_csv = Path(r\"C:\\Users\\admin\\Desktop\\FinTech-Workspace\\PowerPoint_sample\\Module3\\02_Dollars_and_Change\\Resources\\big_time_money_flows.csv\")\n"
   ]
  },
  {
   "cell_type": "code",
   "execution_count": 9,
   "id": "8d2d85cb-7e63-4830-a873-94b0c0ea6301",
   "metadata": {},
   "outputs": [],
   "source": [
    "# Make Pandas read the CSV file.\n",
    "dol_df = pd.read_csv(dol_csv, index_col = \"Date\", parse_dates = True, infer_datetime_format=True)\n"
   ]
  },
  {
   "cell_type": "code",
   "execution_count": 10,
   "id": "74980d77-c86e-4b37-b9cd-1ffb55a79f4c",
   "metadata": {},
   "outputs": [
    {
     "data": {
      "text/html": [
       "<div>\n",
       "<style scoped>\n",
       "    .dataframe tbody tr th:only-of-type {\n",
       "        vertical-align: middle;\n",
       "    }\n",
       "\n",
       "    .dataframe tbody tr th {\n",
       "        vertical-align: top;\n",
       "    }\n",
       "\n",
       "    .dataframe thead th {\n",
       "        text-align: right;\n",
       "    }\n",
       "</style>\n",
       "<table border=\"1\" class=\"dataframe\">\n",
       "  <thead>\n",
       "    <tr style=\"text-align: right;\">\n",
       "      <th></th>\n",
       "      <th>Total Payments</th>\n",
       "      <th>Profit Margin</th>\n",
       "    </tr>\n",
       "    <tr>\n",
       "      <th>Date</th>\n",
       "      <th></th>\n",
       "      <th></th>\n",
       "    </tr>\n",
       "  </thead>\n",
       "  <tbody>\n",
       "    <tr>\n",
       "      <th>2021-01-01</th>\n",
       "      <td>$100008.16</td>\n",
       "      <td>NaN</td>\n",
       "    </tr>\n",
       "    <tr>\n",
       "      <th>2021-01-02</th>\n",
       "      <td>$100017.49</td>\n",
       "      <td>4.8%</td>\n",
       "    </tr>\n",
       "    <tr>\n",
       "      <th>2021-01-03</th>\n",
       "      <td>$100018.77</td>\n",
       "      <td>10.2%</td>\n",
       "    </tr>\n",
       "    <tr>\n",
       "      <th>2021-01-05</th>\n",
       "      <td>$100035.19</td>\n",
       "      <td>9.9%</td>\n",
       "    </tr>\n",
       "    <tr>\n",
       "      <th>2021-01-05</th>\n",
       "      <td>$100035.19</td>\n",
       "      <td>9.9%</td>\n",
       "    </tr>\n",
       "    <tr>\n",
       "      <th>...</th>\n",
       "      <td>...</td>\n",
       "      <td>...</td>\n",
       "    </tr>\n",
       "    <tr>\n",
       "      <th>2021-01-06</th>\n",
       "      <td>$100048.46</td>\n",
       "      <td>9.8%</td>\n",
       "    </tr>\n",
       "    <tr>\n",
       "      <th>2021-01-07</th>\n",
       "      <td>$100048.35</td>\n",
       "      <td>6.3%</td>\n",
       "    </tr>\n",
       "    <tr>\n",
       "      <th>2021-01-08</th>\n",
       "      <td>$100033.09</td>\n",
       "      <td>8.5%</td>\n",
       "    </tr>\n",
       "    <tr>\n",
       "      <th>2021-01-09</th>\n",
       "      <td>$100008.56</td>\n",
       "      <td>5.1%</td>\n",
       "    </tr>\n",
       "    <tr>\n",
       "      <th>2021-01-10</th>\n",
       "      <td>$99988.86</td>\n",
       "      <td>4.4%</td>\n",
       "    </tr>\n",
       "  </tbody>\n",
       "</table>\n",
       "<p>373 rows × 2 columns</p>\n",
       "</div>"
      ],
      "text/plain": [
       "           Total Payments Profit Margin\n",
       "Date                                   \n",
       "2021-01-01     $100008.16           NaN\n",
       "2021-01-02     $100017.49          4.8%\n",
       "2021-01-03     $100018.77         10.2%\n",
       "2021-01-05     $100035.19          9.9%\n",
       "2021-01-05     $100035.19          9.9%\n",
       "...                   ...           ...\n",
       "2021-01-06     $100048.46          9.8%\n",
       "2021-01-07     $100048.35          6.3%\n",
       "2021-01-08     $100033.09          8.5%\n",
       "2021-01-09     $100008.56          5.1%\n",
       "2021-01-10      $99988.86          4.4%\n",
       "\n",
       "[373 rows x 2 columns]"
      ]
     },
     "execution_count": 10,
     "metadata": {},
     "output_type": "execute_result"
    }
   ],
   "source": [
    "# Create the DataFrame.\n",
    "dol_df"
   ]
  },
  {
   "cell_type": "code",
   "execution_count": 12,
   "id": "3af15655-4ddb-4e71-a401-98a6f25cfd0e",
   "metadata": {},
   "outputs": [],
   "source": [
    "# Set the Date for index."
   ]
  },
  {
   "cell_type": "code",
   "execution_count": 22,
   "id": "ce3f7362-bd9f-4b23-9588-fff4ec4855ad",
   "metadata": {},
   "outputs": [
    {
     "data": {
      "text/plain": [
       "Total Payments    object\n",
       "Profit Margin     object\n",
       "dtype: object"
      ]
     },
     "execution_count": 22,
     "metadata": {},
     "output_type": "execute_result"
    }
   ],
   "source": [
    "dol_df.dtypes"
   ]
  },
  {
   "cell_type": "code",
   "execution_count": 23,
   "id": "22eef64f-8ebd-4fea-a756-a309829ea32b",
   "metadata": {},
   "outputs": [
    {
     "name": "stderr",
     "output_type": "stream",
     "text": [
      "C:\\Users\\admin\\AppData\\Local\\Temp\\ipykernel_7428\\3154656797.py:4: FutureWarning: The default value of regex will change from True to False in a future version. In addition, single character regular expressions will *not* be treated as literal strings when regex=True.\n",
      "  dol_loc_df = dol_df.loc[:, \"Total Payments\"].str.replace(\"$\", \"\")\n"
     ]
    },
    {
     "data": {
      "text/plain": [
       "Date\n",
       "2021-01-01    100008.16\n",
       "2021-01-02    100017.49\n",
       "2021-01-03    100018.77\n",
       "2021-01-05    100035.19\n",
       "2021-01-05    100035.19\n",
       "                ...    \n",
       "2021-01-06    100048.46\n",
       "2021-01-07    100048.35\n",
       "2021-01-08    100033.09\n",
       "2021-01-09    100008.56\n",
       "2021-01-10     99988.86\n",
       "Name: Total Payments, Length: 373, dtype: object"
      ]
     },
     "execution_count": 23,
     "metadata": {},
     "output_type": "execute_result"
    }
   ],
   "source": [
    "# The DataFrame is an object type inferring string.\n",
    "# There are dollar \"$\" signs as well as percent \"%\" signs, need to replace them.\n",
    "# Task: isolate and replace\n",
    "dol_loc_df = dol_df.loc[:, \"Total Payments\"].str.replace(\"$\", \"\")\n",
    "dol_loc_df"
   ]
  },
  {
   "cell_type": "code",
   "execution_count": null,
   "id": "858d0431-3ff9-4278-add4-e9a6ea3697ac",
   "metadata": {},
   "outputs": [],
   "source": [
    "# Replacing does not adjust numerical behavior.\n",
    "# Task: transform data type to numerical behavior like float\n",
    "do"
   ]
  },
  {
   "cell_type": "code",
   "execution_count": null,
   "id": "3219716e-6f9d-48b4-9182-8ab9a908d4f3",
   "metadata": {},
   "outputs": [],
   "source": []
  },
  {
   "cell_type": "code",
   "execution_count": null,
   "id": "5c960087-d4a9-4863-8102-d429d95516dc",
   "metadata": {},
   "outputs": [],
   "source": []
  },
  {
   "cell_type": "code",
   "execution_count": null,
   "id": "5d57d9d8-93c2-4662-8e6b-13e66898a714",
   "metadata": {},
   "outputs": [],
   "source": []
  },
  {
   "cell_type": "code",
   "execution_count": null,
   "id": "e9a2153f-a708-4382-95f1-605694a67f45",
   "metadata": {},
   "outputs": [],
   "source": []
  },
  {
   "cell_type": "code",
   "execution_count": null,
   "id": "e91817c6-fce7-4c8c-ac8b-497db731c483",
   "metadata": {},
   "outputs": [],
   "source": []
  },
  {
   "cell_type": "code",
   "execution_count": null,
   "id": "88527822-0e6d-4c9f-9cf9-4e6aa6bfadd6",
   "metadata": {},
   "outputs": [],
   "source": []
  }
 ],
 "metadata": {
  "kernelspec": {
   "display_name": "Python (dev)",
   "language": "python",
   "name": "dev"
  },
  "language_info": {
   "codemirror_mode": {
    "name": "ipython",
    "version": 3
   },
   "file_extension": ".py",
   "mimetype": "text/x-python",
   "name": "python",
   "nbconvert_exporter": "python",
   "pygments_lexer": "ipython3",
   "version": "3.9.15"
  }
 },
 "nbformat": 4,
 "nbformat_minor": 5
}
