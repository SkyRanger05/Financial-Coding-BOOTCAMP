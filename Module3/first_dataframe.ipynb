{
 "cells": [
  {
   "cell_type": "markdown",
   "id": "68e43f28-6aed-4ff4-ada9-7b6c5f5e1d12",
   "metadata": {},
   "source": [
    "# This is an exercise about dataframe cleanup"
   ]
  },
  {
   "cell_type": "code",
   "execution_count": 1,
   "id": "777e0a21-ce66-41ce-8d1b-f3905127e45d",
   "metadata": {},
   "outputs": [],
   "source": [
    "# info about encoding\n",
    "# Import necessary libraries\n",
    "import pandas as pd\n",
    "from pathlib import Path"
   ]
  },
  {
   "cell_type": "code",
   "execution_count": 2,
   "id": "e2185292-e606-474c-93e4-b4ca7d395b61",
   "metadata": {},
   "outputs": [],
   "source": [
    "# Make the connection to the source file.\n",
    "dol_csv = Path(r\"C:\\Users\\admin\\Desktop\\FinTech-Workspace\\PowerPoint_sample\\Module3\\02_Dollars_and_Change\\Resources\\big_time_money_flows.csv\")\n"
   ]
  },
  {
   "cell_type": "code",
   "execution_count": 3,
   "id": "8d2d85cb-7e63-4830-a873-94b0c0ea6301",
   "metadata": {},
   "outputs": [],
   "source": [
    "# Make Pandas read the CSV file.\n",
    "dol_df = pd.read_csv(dol_csv, index_col = \"Date\", parse_dates = True, infer_datetime_format=True)\n"
   ]
  },
  {
   "cell_type": "code",
   "execution_count": 4,
   "id": "75a6a21f-028e-47f6-b62b-d1e0085cfe06",
   "metadata": {},
   "outputs": [
    {
     "data": {
      "text/html": [
       "<div>\n",
       "<style scoped>\n",
       "    .dataframe tbody tr th:only-of-type {\n",
       "        vertical-align: middle;\n",
       "    }\n",
       "\n",
       "    .dataframe tbody tr th {\n",
       "        vertical-align: top;\n",
       "    }\n",
       "\n",
       "    .dataframe thead th {\n",
       "        text-align: right;\n",
       "    }\n",
       "</style>\n",
       "<table border=\"1\" class=\"dataframe\">\n",
       "  <thead>\n",
       "    <tr style=\"text-align: right;\">\n",
       "      <th></th>\n",
       "      <th>Total Payments</th>\n",
       "      <th>Profit Margin</th>\n",
       "    </tr>\n",
       "    <tr>\n",
       "      <th>Date</th>\n",
       "      <th></th>\n",
       "      <th></th>\n",
       "    </tr>\n",
       "  </thead>\n",
       "  <tbody>\n",
       "    <tr>\n",
       "      <th>2021-01-01</th>\n",
       "      <td>$100008.16</td>\n",
       "      <td>NaN</td>\n",
       "    </tr>\n",
       "    <tr>\n",
       "      <th>2021-01-02</th>\n",
       "      <td>$100017.49</td>\n",
       "      <td>4.8%</td>\n",
       "    </tr>\n",
       "    <tr>\n",
       "      <th>2021-01-03</th>\n",
       "      <td>$100018.77</td>\n",
       "      <td>10.2%</td>\n",
       "    </tr>\n",
       "    <tr>\n",
       "      <th>2021-01-05</th>\n",
       "      <td>$100035.19</td>\n",
       "      <td>9.9%</td>\n",
       "    </tr>\n",
       "    <tr>\n",
       "      <th>2021-01-05</th>\n",
       "      <td>$100035.19</td>\n",
       "      <td>9.9%</td>\n",
       "    </tr>\n",
       "    <tr>\n",
       "      <th>...</th>\n",
       "      <td>...</td>\n",
       "      <td>...</td>\n",
       "    </tr>\n",
       "    <tr>\n",
       "      <th>2021-01-06</th>\n",
       "      <td>$100048.46</td>\n",
       "      <td>9.8%</td>\n",
       "    </tr>\n",
       "    <tr>\n",
       "      <th>2021-01-07</th>\n",
       "      <td>$100048.35</td>\n",
       "      <td>6.3%</td>\n",
       "    </tr>\n",
       "    <tr>\n",
       "      <th>2021-01-08</th>\n",
       "      <td>$100033.09</td>\n",
       "      <td>8.5%</td>\n",
       "    </tr>\n",
       "    <tr>\n",
       "      <th>2021-01-09</th>\n",
       "      <td>$100008.56</td>\n",
       "      <td>5.1%</td>\n",
       "    </tr>\n",
       "    <tr>\n",
       "      <th>2021-01-10</th>\n",
       "      <td>$99988.86</td>\n",
       "      <td>4.4%</td>\n",
       "    </tr>\n",
       "  </tbody>\n",
       "</table>\n",
       "<p>373 rows × 2 columns</p>\n",
       "</div>"
      ],
      "text/plain": [
       "           Total Payments Profit Margin\n",
       "Date                                   \n",
       "2021-01-01     $100008.16           NaN\n",
       "2021-01-02     $100017.49          4.8%\n",
       "2021-01-03     $100018.77         10.2%\n",
       "2021-01-05     $100035.19          9.9%\n",
       "2021-01-05     $100035.19          9.9%\n",
       "...                   ...           ...\n",
       "2021-01-06     $100048.46          9.8%\n",
       "2021-01-07     $100048.35          6.3%\n",
       "2021-01-08     $100033.09          8.5%\n",
       "2021-01-09     $100008.56          5.1%\n",
       "2021-01-10      $99988.86          4.4%\n",
       "\n",
       "[373 rows x 2 columns]"
      ]
     },
     "execution_count": 4,
     "metadata": {},
     "output_type": "execute_result"
    }
   ],
   "source": [
    "# Create the DataFrame.\n",
    "dol_df"
   ]
  },
  {
   "cell_type": "code",
   "execution_count": 5,
   "id": "3af15655-4ddb-4e71-a401-98a6f25cfd0e",
   "metadata": {},
   "outputs": [],
   "source": [
    "# Set the Date for index at the CSV calling."
   ]
  },
  {
   "cell_type": "code",
   "execution_count": 6,
   "id": "ce3f7362-bd9f-4b23-9588-fff4ec4855ad",
   "metadata": {},
   "outputs": [
    {
     "data": {
      "text/plain": [
       "Total Payments    object\n",
       "Profit Margin     object\n",
       "dtype: object"
      ]
     },
     "execution_count": 6,
     "metadata": {},
     "output_type": "execute_result"
    }
   ],
   "source": [
    "dol_df.dtypes"
   ]
  },
  {
   "cell_type": "code",
   "execution_count": 7,
   "id": "22eef64f-8ebd-4fea-a756-a309829ea32b",
   "metadata": {},
   "outputs": [
    {
     "data": {
      "text/html": [
       "<div>\n",
       "<style scoped>\n",
       "    .dataframe tbody tr th:only-of-type {\n",
       "        vertical-align: middle;\n",
       "    }\n",
       "\n",
       "    .dataframe tbody tr th {\n",
       "        vertical-align: top;\n",
       "    }\n",
       "\n",
       "    .dataframe thead th {\n",
       "        text-align: right;\n",
       "    }\n",
       "</style>\n",
       "<table border=\"1\" class=\"dataframe\">\n",
       "  <thead>\n",
       "    <tr style=\"text-align: right;\">\n",
       "      <th></th>\n",
       "      <th>Total Payments</th>\n",
       "      <th>Profit Margin</th>\n",
       "    </tr>\n",
       "    <tr>\n",
       "      <th>Date</th>\n",
       "      <th></th>\n",
       "      <th></th>\n",
       "    </tr>\n",
       "  </thead>\n",
       "  <tbody>\n",
       "    <tr>\n",
       "      <th>2021-01-01</th>\n",
       "      <td>$100008.16</td>\n",
       "      <td>NaN</td>\n",
       "    </tr>\n",
       "    <tr>\n",
       "      <th>2021-01-02</th>\n",
       "      <td>$100017.49</td>\n",
       "      <td>4.8%</td>\n",
       "    </tr>\n",
       "    <tr>\n",
       "      <th>2021-01-03</th>\n",
       "      <td>$100018.77</td>\n",
       "      <td>10.2%</td>\n",
       "    </tr>\n",
       "    <tr>\n",
       "      <th>2021-01-05</th>\n",
       "      <td>$100035.19</td>\n",
       "      <td>9.9%</td>\n",
       "    </tr>\n",
       "    <tr>\n",
       "      <th>2021-01-05</th>\n",
       "      <td>$100035.19</td>\n",
       "      <td>9.9%</td>\n",
       "    </tr>\n",
       "    <tr>\n",
       "      <th>...</th>\n",
       "      <td>...</td>\n",
       "      <td>...</td>\n",
       "    </tr>\n",
       "    <tr>\n",
       "      <th>2021-01-06</th>\n",
       "      <td>$100048.46</td>\n",
       "      <td>9.8%</td>\n",
       "    </tr>\n",
       "    <tr>\n",
       "      <th>2021-01-07</th>\n",
       "      <td>$100048.35</td>\n",
       "      <td>6.3%</td>\n",
       "    </tr>\n",
       "    <tr>\n",
       "      <th>2021-01-08</th>\n",
       "      <td>$100033.09</td>\n",
       "      <td>8.5%</td>\n",
       "    </tr>\n",
       "    <tr>\n",
       "      <th>2021-01-09</th>\n",
       "      <td>$100008.56</td>\n",
       "      <td>5.1%</td>\n",
       "    </tr>\n",
       "    <tr>\n",
       "      <th>2021-01-10</th>\n",
       "      <td>$99988.86</td>\n",
       "      <td>4.4%</td>\n",
       "    </tr>\n",
       "  </tbody>\n",
       "</table>\n",
       "<p>373 rows × 2 columns</p>\n",
       "</div>"
      ],
      "text/plain": [
       "           Total Payments Profit Margin\n",
       "Date                                   \n",
       "2021-01-01     $100008.16           NaN\n",
       "2021-01-02     $100017.49          4.8%\n",
       "2021-01-03     $100018.77         10.2%\n",
       "2021-01-05     $100035.19          9.9%\n",
       "2021-01-05     $100035.19          9.9%\n",
       "...                   ...           ...\n",
       "2021-01-06     $100048.46          9.8%\n",
       "2021-01-07     $100048.35          6.3%\n",
       "2021-01-08     $100033.09          8.5%\n",
       "2021-01-09     $100008.56          5.1%\n",
       "2021-01-10      $99988.86          4.4%\n",
       "\n",
       "[373 rows x 2 columns]"
      ]
     },
     "execution_count": 7,
     "metadata": {},
     "output_type": "execute_result"
    }
   ],
   "source": [
    "# The DataFrame is an object type inferring string.\n",
    "# There are dollar \"$\" signs as well as percent \"%\" signs, need to replace them.\n",
    "# Task: isolate and replace\n",
    "dol_df.loc[:,[\"Total Payments\", \"Profit Margin\"]]\n"
   ]
  },
  {
   "cell_type": "code",
   "execution_count": 8,
   "id": "858d0431-3ff9-4278-add4-e9a6ea3697ac",
   "metadata": {},
   "outputs": [
    {
     "name": "stderr",
     "output_type": "stream",
     "text": [
      "C:\\Users\\admin\\AppData\\Local\\Temp\\ipykernel_13448\\964647881.py:3: FutureWarning: The default value of regex will change from True to False in a future version. In addition, single character regular expressions will *not* be treated as literal strings when regex=True.\n",
      "  dol_df.loc[:,\"Total Payments\"] = dol_df.loc[:,\"Total Payments\"].str.replace(\"$\", \"\")\n"
     ]
    },
    {
     "data": {
      "text/plain": [
       "Date\n",
       "2021-01-01    100008.16\n",
       "2021-01-02    100017.49\n",
       "2021-01-03    100018.77\n",
       "2021-01-05    100035.19\n",
       "2021-01-05    100035.19\n",
       "                ...    \n",
       "2021-01-06    100048.46\n",
       "2021-01-07    100048.35\n",
       "2021-01-08    100033.09\n",
       "2021-01-09    100008.56\n",
       "2021-01-10     99988.86\n",
       "Name: Total Payments, Length: 373, dtype: object"
      ]
     },
     "execution_count": 8,
     "metadata": {},
     "output_type": "execute_result"
    }
   ],
   "source": [
    "# Isolate and replace the string, then convert to numerical behavior to float.\n",
    "# Task: isolate, replace, and then transform data type to numerical behavior like float\n",
    "dol_df.loc[:,\"Total Payments\"] = dol_df.loc[:,\"Total Payments\"].str.replace(\"$\", \"\")\n",
    "dol_df.loc[:,\"Total Payments\"]"
   ]
  },
  {
   "cell_type": "code",
   "execution_count": 9,
   "id": "f2362f81-ac93-4cdd-8918-2c00cc064f04",
   "metadata": {},
   "outputs": [
    {
     "name": "stderr",
     "output_type": "stream",
     "text": [
      "C:\\Users\\admin\\AppData\\Local\\Temp\\ipykernel_13448\\365390887.py:1: FutureWarning: In a future version, `df.iloc[:, i] = newvals` will attempt to set the values inplace instead of always setting a new array. To retain the old behavior, use either `df[df.columns[i]] = newvals` or, if columns are non-unique, `df.isetitem(i, newvals)`\n",
      "  dol_df.loc[:,\"Total Payments\"] = dol_df.loc[:,\"Total Payments\"].astype(float)\n"
     ]
    },
    {
     "data": {
      "text/plain": [
       "Date\n",
       "2021-01-01    100008.16\n",
       "2021-01-02    100017.49\n",
       "2021-01-03    100018.77\n",
       "2021-01-05    100035.19\n",
       "2021-01-05    100035.19\n",
       "                ...    \n",
       "2021-01-06    100048.46\n",
       "2021-01-07    100048.35\n",
       "2021-01-08    100033.09\n",
       "2021-01-09    100008.56\n",
       "2021-01-10     99988.86\n",
       "Name: Total Payments, Length: 373, dtype: float64"
      ]
     },
     "execution_count": 9,
     "metadata": {},
     "output_type": "execute_result"
    }
   ],
   "source": [
    "dol_df.loc[:,\"Total Payments\"] = dol_df.loc[:,\"Total Payments\"].astype(float)\n",
    "dol_df.loc[:,\"Total Payments\"]"
   ]
  },
  {
   "cell_type": "code",
   "execution_count": 10,
   "id": "67989aca-6d8b-4daa-96bd-084e8fcaf6d1",
   "metadata": {},
   "outputs": [
    {
     "data": {
      "text/plain": [
       "dtype('float64')"
      ]
     },
     "execution_count": 10,
     "metadata": {},
     "output_type": "execute_result"
    }
   ],
   "source": [
    "dol_df.loc[:,\"Total Payments\"].dtypes"
   ]
  },
  {
   "cell_type": "code",
   "execution_count": 28,
   "id": "706cd999-22d3-4726-9db2-67a9e9ce3fff",
   "metadata": {},
   "outputs": [
    {
     "data": {
      "text/plain": [
       "Date\n",
       "2021-01-01    False\n",
       "2021-01-02    False\n",
       "2021-01-03    False\n",
       "2021-01-05    False\n",
       "2021-01-05    False\n",
       "              ...  \n",
       "2021-01-06    False\n",
       "2021-01-07    False\n",
       "2021-01-08    False\n",
       "2021-01-09    False\n",
       "2021-01-10    False\n",
       "Name: Total Payments, Length: 373, dtype: bool"
      ]
     },
     "execution_count": 28,
     "metadata": {},
     "output_type": "execute_result"
    }
   ],
   "source": [
    "dol_df.loc[:,\"Total Payments\"] = dol_df.loc[:,\"Total Payments\"].isnull()\n",
    "dol_df.loc[:,\"Total Payments\"]"
   ]
  },
  {
   "cell_type": "code",
   "execution_count": 46,
   "id": "a0cc77e4-a3cd-423c-891c-c0267ec5325c",
   "metadata": {},
   "outputs": [
    {
     "data": {
      "text/plain": [
       "0"
      ]
     },
     "execution_count": 46,
     "metadata": {},
     "output_type": "execute_result"
    }
   ],
   "source": [
    "dol_df.loc[:,\"Total Payments\"].isnull().sum()"
   ]
  },
  {
   "cell_type": "code",
   "execution_count": 51,
   "id": "0d92c0c3-736d-4bc6-b12a-585c2deb3a9f",
   "metadata": {},
   "outputs": [
    {
     "data": {
      "text/plain": [
       "372"
      ]
     },
     "execution_count": 51,
     "metadata": {},
     "output_type": "execute_result"
    }
   ],
   "source": [
    "dol_df.loc[:,\"Total Payments\"].duplicated().sum()\n"
   ]
  },
  {
   "cell_type": "code",
   "execution_count": 49,
   "id": "303956f0-a519-4e8b-b399-0327fea1cd88",
   "metadata": {},
   "outputs": [
    {
     "data": {
      "text/plain": [
       "Date\n",
       "2021-01-01    0\n",
       "2021-01-02    0\n",
       "2021-01-03    0\n",
       "2021-01-05    0\n",
       "2021-01-05    0\n",
       "             ..\n",
       "2021-01-06    0\n",
       "2021-01-07    0\n",
       "2021-01-08    0\n",
       "2021-01-09    0\n",
       "2021-01-10    0\n",
       "Name: Total Payments, Length: 373, dtype: int64"
      ]
     },
     "execution_count": 49,
     "metadata": {},
     "output_type": "execute_result"
    }
   ],
   "source": [
    "dol_df.loc[:,\"Total Payments\"] = dol_df.loc[:,\"Total Payments\"].drop_duplicates().duplicated().sum()\n",
    "dol_df.loc[:,\"Total Payments\"]"
   ]
  },
  {
   "cell_type": "code",
   "execution_count": 42,
   "id": "955822fc-d62b-411f-829f-70850e84824e",
   "metadata": {},
   "outputs": [
    {
     "data": {
      "text/plain": [
       "371"
      ]
     },
     "execution_count": 42,
     "metadata": {},
     "output_type": "execute_result"
    }
   ],
   "source": []
  },
  {
   "cell_type": "code",
   "execution_count": 16,
   "id": "9d749548-f378-4675-96ae-1d79d282b5cd",
   "metadata": {},
   "outputs": [
    {
     "data": {
      "text/plain": [
       "dtype('O')"
      ]
     },
     "execution_count": 16,
     "metadata": {},
     "output_type": "execute_result"
    }
   ],
   "source": [
    "dol_df.loc[:,\"Profit Margin\"].dtypes"
   ]
  },
  {
   "cell_type": "code",
   "execution_count": 17,
   "id": "a40b779c-cb5d-4b93-81f3-e382ffc7e525",
   "metadata": {},
   "outputs": [
    {
     "name": "stderr",
     "output_type": "stream",
     "text": [
      "C:\\Users\\admin\\AppData\\Local\\Temp\\ipykernel_13448\\921286179.py:1: FutureWarning: In a future version, `df.iloc[:, i] = newvals` will attempt to set the values inplace instead of always setting a new array. To retain the old behavior, use either `df[df.columns[i]] = newvals` or, if columns are non-unique, `df.isetitem(i, newvals)`\n",
      "  dol_df.loc[:,\"Profit Margin\"] = dol_df.loc[:,\"Profit Margin\"].astype(float)\n"
     ]
    },
    {
     "data": {
      "text/plain": [
       "Date\n",
       "2021-01-01     NaN\n",
       "2021-01-02     4.8\n",
       "2021-01-03    10.2\n",
       "2021-01-05     9.9\n",
       "2021-01-05     9.9\n",
       "              ... \n",
       "2021-01-06     9.8\n",
       "2021-01-07     6.3\n",
       "2021-01-08     8.5\n",
       "2021-01-09     5.1\n",
       "2021-01-10     4.4\n",
       "Name: Profit Margin, Length: 373, dtype: float64"
      ]
     },
     "execution_count": 17,
     "metadata": {},
     "output_type": "execute_result"
    }
   ],
   "source": [
    "dol_df.loc[:,\"Profit Margin\"] = dol_df.loc[:,\"Profit Margin\"].astype(float)\n",
    "dol_df.loc[:,\"Profit Margin\"]"
   ]
  },
  {
   "cell_type": "code",
   "execution_count": 18,
   "id": "4957a5f7-5811-4d75-ab4e-f6cc700a823f",
   "metadata": {},
   "outputs": [
    {
     "data": {
      "text/plain": [
       "dtype('float64')"
      ]
     },
     "execution_count": 18,
     "metadata": {},
     "output_type": "execute_result"
    }
   ],
   "source": [
    "dol_df.loc[:,\"Profit Margin\"].dtypes"
   ]
  },
  {
   "cell_type": "code",
   "execution_count": 19,
   "id": "3bf5c7ff-6245-4026-b25b-aa41847ac4a4",
   "metadata": {},
   "outputs": [
    {
     "data": {
      "text/plain": [
       "Date\n",
       "2021-01-01     True\n",
       "2021-01-02    False\n",
       "2021-01-03    False\n",
       "2021-01-05    False\n",
       "2021-01-05    False\n",
       "              ...  \n",
       "2021-01-06    False\n",
       "2021-01-07    False\n",
       "2021-01-08    False\n",
       "2021-01-09    False\n",
       "2021-01-10    False\n",
       "Name: Profit Margin, Length: 373, dtype: bool"
      ]
     },
     "execution_count": 19,
     "metadata": {},
     "output_type": "execute_result"
    }
   ],
   "source": [
    "dol_df.loc[:,\"Profit Margin\"].isnull()\n"
   ]
  },
  {
   "cell_type": "code",
   "execution_count": 20,
   "id": "5ccfb65a-012c-426c-a42a-c89026075a78",
   "metadata": {},
   "outputs": [
    {
     "data": {
      "text/plain": [
       "11"
      ]
     },
     "execution_count": 20,
     "metadata": {},
     "output_type": "execute_result"
    }
   ],
   "source": [
    "dol_df.loc[:,\"Profit Margin\"].isnull().sum()"
   ]
  },
  {
   "cell_type": "code",
   "execution_count": 21,
   "id": "d442a1d8-4a3a-4113-b826-bf7c6930c445",
   "metadata": {},
   "outputs": [
    {
     "data": {
      "text/plain": [
       "Date\n",
       "2021-01-01     0.0\n",
       "2021-01-02     4.8\n",
       "2021-01-03    10.2\n",
       "2021-01-05     9.9\n",
       "2021-01-05     9.9\n",
       "              ... \n",
       "2021-01-06     9.8\n",
       "2021-01-07     6.3\n",
       "2021-01-08     8.5\n",
       "2021-01-09     5.1\n",
       "2021-01-10     4.4\n",
       "Name: Profit Margin, Length: 373, dtype: float64"
      ]
     },
     "execution_count": 21,
     "metadata": {},
     "output_type": "execute_result"
    }
   ],
   "source": [
    "dol_df.loc[:,\"Profit Margin\"].fillna(0)"
   ]
  },
  {
   "cell_type": "code",
   "execution_count": 22,
   "id": "39d9093c-75a4-4d2e-bd47-5ced0367a33d",
   "metadata": {},
   "outputs": [
    {
     "data": {
      "text/plain": [
       "0"
      ]
     },
     "execution_count": 22,
     "metadata": {},
     "output_type": "execute_result"
    }
   ],
   "source": [
    "dol_df.loc[:,\"Profit Margin\"].fillna(0).isnull().sum()"
   ]
  },
  {
   "cell_type": "code",
   "execution_count": 23,
   "id": "226b889f-7413-4e73-9e64-9af18caaca87",
   "metadata": {},
   "outputs": [
    {
     "data": {
      "text/plain": [
       "252"
      ]
     },
     "execution_count": 23,
     "metadata": {},
     "output_type": "execute_result"
    }
   ],
   "source": [
    "dol_df.loc[:,\"Profit Margin\"].duplicated().sum()"
   ]
  },
  {
   "cell_type": "code",
   "execution_count": 24,
   "id": "b1d8557b-daf3-4831-8c65-c5579189fc17",
   "metadata": {},
   "outputs": [
    {
     "data": {
      "text/plain": [
       "0"
      ]
     },
     "execution_count": 24,
     "metadata": {},
     "output_type": "execute_result"
    }
   ],
   "source": [
    "dol_df.loc[:,\"Profit Margin\"].drop_duplicates().duplicated().sum()"
   ]
  },
  {
   "cell_type": "code",
   "execution_count": 25,
   "id": "3c9b5afc-dcb6-4ec6-97ff-10fade962258",
   "metadata": {},
   "outputs": [
    {
     "data": {
      "text/plain": [
       "252"
      ]
     },
     "execution_count": 25,
     "metadata": {},
     "output_type": "execute_result"
    }
   ],
   "source": [
    "dol_df.loc[:,\"Profit Margin\"].duplicated().sum()"
   ]
  },
  {
   "cell_type": "code",
   "execution_count": 26,
   "id": "71348e29-30a0-4d74-8492-a1e745547823",
   "metadata": {},
   "outputs": [
    {
     "ename": "AttributeError",
     "evalue": "Can only use .str accessor with string values!",
     "output_type": "error",
     "traceback": [
      "\u001b[1;31m---------------------------------------------------------------------------\u001b[0m",
      "\u001b[1;31mAttributeError\u001b[0m                            Traceback (most recent call last)",
      "\u001b[1;32m~\\AppData\\Local\\Temp\\ipykernel_13448\\1114906435.py\u001b[0m in \u001b[0;36m<module>\u001b[1;34m\u001b[0m\n\u001b[0;32m      2\u001b[0m \u001b[1;31m# There are dollar \"$\" signs as well as percent \"%\" signs, need to replace them.\u001b[0m\u001b[1;33m\u001b[0m\u001b[1;33m\u001b[0m\u001b[0m\n\u001b[0;32m      3\u001b[0m \u001b[1;31m# Task: isolate and replace\u001b[0m\u001b[1;33m\u001b[0m\u001b[1;33m\u001b[0m\u001b[0m\n\u001b[1;32m----> 4\u001b[1;33m \u001b[0mdol_loc_df\u001b[0m \u001b[1;33m=\u001b[0m \u001b[0mdol_df\u001b[0m\u001b[1;33m.\u001b[0m\u001b[0mloc\u001b[0m\u001b[1;33m[\u001b[0m\u001b[1;33m:\u001b[0m\u001b[1;33m,\u001b[0m \u001b[1;34m\"Profit Margin\"\u001b[0m\u001b[1;33m]\u001b[0m\u001b[1;33m.\u001b[0m\u001b[0mstr\u001b[0m\u001b[1;33m.\u001b[0m\u001b[0mreplace\u001b[0m\u001b[1;33m(\u001b[0m\u001b[1;34m\"%\"\u001b[0m\u001b[1;33m,\u001b[0m \u001b[1;34m\"\"\u001b[0m\u001b[1;33m)\u001b[0m\u001b[1;33m\u001b[0m\u001b[1;33m\u001b[0m\u001b[0m\n\u001b[0m\u001b[0;32m      5\u001b[0m \u001b[0mdol_loc_df\u001b[0m\u001b[1;33m\u001b[0m\u001b[1;33m\u001b[0m\u001b[0m\n",
      "\u001b[1;32m~\\.conda\\envs\\dev\\lib\\site-packages\\pandas\\core\\generic.py\u001b[0m in \u001b[0;36m__getattr__\u001b[1;34m(self, name)\u001b[0m\n\u001b[0;32m   5900\u001b[0m         ):\n\u001b[0;32m   5901\u001b[0m             \u001b[1;32mreturn\u001b[0m \u001b[0mself\u001b[0m\u001b[1;33m[\u001b[0m\u001b[0mname\u001b[0m\u001b[1;33m]\u001b[0m\u001b[1;33m\u001b[0m\u001b[1;33m\u001b[0m\u001b[0m\n\u001b[1;32m-> 5902\u001b[1;33m         \u001b[1;32mreturn\u001b[0m \u001b[0mobject\u001b[0m\u001b[1;33m.\u001b[0m\u001b[0m__getattribute__\u001b[0m\u001b[1;33m(\u001b[0m\u001b[0mself\u001b[0m\u001b[1;33m,\u001b[0m \u001b[0mname\u001b[0m\u001b[1;33m)\u001b[0m\u001b[1;33m\u001b[0m\u001b[1;33m\u001b[0m\u001b[0m\n\u001b[0m\u001b[0;32m   5903\u001b[0m \u001b[1;33m\u001b[0m\u001b[0m\n\u001b[0;32m   5904\u001b[0m     \u001b[1;32mdef\u001b[0m \u001b[0m__setattr__\u001b[0m\u001b[1;33m(\u001b[0m\u001b[0mself\u001b[0m\u001b[1;33m,\u001b[0m \u001b[0mname\u001b[0m\u001b[1;33m:\u001b[0m \u001b[0mstr\u001b[0m\u001b[1;33m,\u001b[0m \u001b[0mvalue\u001b[0m\u001b[1;33m)\u001b[0m \u001b[1;33m->\u001b[0m \u001b[1;32mNone\u001b[0m\u001b[1;33m:\u001b[0m\u001b[1;33m\u001b[0m\u001b[1;33m\u001b[0m\u001b[0m\n",
      "\u001b[1;32m~\\.conda\\envs\\dev\\lib\\site-packages\\pandas\\core\\accessor.py\u001b[0m in \u001b[0;36m__get__\u001b[1;34m(self, obj, cls)\u001b[0m\n\u001b[0;32m    180\u001b[0m             \u001b[1;31m# we're accessing the attribute of the class, i.e., Dataset.geo\u001b[0m\u001b[1;33m\u001b[0m\u001b[1;33m\u001b[0m\u001b[0m\n\u001b[0;32m    181\u001b[0m             \u001b[1;32mreturn\u001b[0m \u001b[0mself\u001b[0m\u001b[1;33m.\u001b[0m\u001b[0m_accessor\u001b[0m\u001b[1;33m\u001b[0m\u001b[1;33m\u001b[0m\u001b[0m\n\u001b[1;32m--> 182\u001b[1;33m         \u001b[0maccessor_obj\u001b[0m \u001b[1;33m=\u001b[0m \u001b[0mself\u001b[0m\u001b[1;33m.\u001b[0m\u001b[0m_accessor\u001b[0m\u001b[1;33m(\u001b[0m\u001b[0mobj\u001b[0m\u001b[1;33m)\u001b[0m\u001b[1;33m\u001b[0m\u001b[1;33m\u001b[0m\u001b[0m\n\u001b[0m\u001b[0;32m    183\u001b[0m         \u001b[1;31m# Replace the property with the accessor object. Inspired by:\u001b[0m\u001b[1;33m\u001b[0m\u001b[1;33m\u001b[0m\u001b[0m\n\u001b[0;32m    184\u001b[0m         \u001b[1;31m# https://www.pydanny.com/cached-property.html\u001b[0m\u001b[1;33m\u001b[0m\u001b[1;33m\u001b[0m\u001b[0m\n",
      "\u001b[1;32m~\\.conda\\envs\\dev\\lib\\site-packages\\pandas\\core\\strings\\accessor.py\u001b[0m in \u001b[0;36m__init__\u001b[1;34m(self, data)\u001b[0m\n\u001b[0;32m    179\u001b[0m         \u001b[1;32mfrom\u001b[0m \u001b[0mpandas\u001b[0m\u001b[1;33m.\u001b[0m\u001b[0mcore\u001b[0m\u001b[1;33m.\u001b[0m\u001b[0marrays\u001b[0m\u001b[1;33m.\u001b[0m\u001b[0mstring_\u001b[0m \u001b[1;32mimport\u001b[0m \u001b[0mStringDtype\u001b[0m\u001b[1;33m\u001b[0m\u001b[1;33m\u001b[0m\u001b[0m\n\u001b[0;32m    180\u001b[0m \u001b[1;33m\u001b[0m\u001b[0m\n\u001b[1;32m--> 181\u001b[1;33m         \u001b[0mself\u001b[0m\u001b[1;33m.\u001b[0m\u001b[0m_inferred_dtype\u001b[0m \u001b[1;33m=\u001b[0m \u001b[0mself\u001b[0m\u001b[1;33m.\u001b[0m\u001b[0m_validate\u001b[0m\u001b[1;33m(\u001b[0m\u001b[0mdata\u001b[0m\u001b[1;33m)\u001b[0m\u001b[1;33m\u001b[0m\u001b[1;33m\u001b[0m\u001b[0m\n\u001b[0m\u001b[0;32m    182\u001b[0m         \u001b[0mself\u001b[0m\u001b[1;33m.\u001b[0m\u001b[0m_is_categorical\u001b[0m \u001b[1;33m=\u001b[0m \u001b[0mis_categorical_dtype\u001b[0m\u001b[1;33m(\u001b[0m\u001b[0mdata\u001b[0m\u001b[1;33m.\u001b[0m\u001b[0mdtype\u001b[0m\u001b[1;33m)\u001b[0m\u001b[1;33m\u001b[0m\u001b[1;33m\u001b[0m\u001b[0m\n\u001b[0;32m    183\u001b[0m         \u001b[0mself\u001b[0m\u001b[1;33m.\u001b[0m\u001b[0m_is_string\u001b[0m \u001b[1;33m=\u001b[0m \u001b[0misinstance\u001b[0m\u001b[1;33m(\u001b[0m\u001b[0mdata\u001b[0m\u001b[1;33m.\u001b[0m\u001b[0mdtype\u001b[0m\u001b[1;33m,\u001b[0m \u001b[0mStringDtype\u001b[0m\u001b[1;33m)\u001b[0m\u001b[1;33m\u001b[0m\u001b[1;33m\u001b[0m\u001b[0m\n",
      "\u001b[1;32m~\\.conda\\envs\\dev\\lib\\site-packages\\pandas\\core\\strings\\accessor.py\u001b[0m in \u001b[0;36m_validate\u001b[1;34m(data)\u001b[0m\n\u001b[0;32m    233\u001b[0m \u001b[1;33m\u001b[0m\u001b[0m\n\u001b[0;32m    234\u001b[0m         \u001b[1;32mif\u001b[0m \u001b[0minferred_dtype\u001b[0m \u001b[1;32mnot\u001b[0m \u001b[1;32min\u001b[0m \u001b[0mallowed_types\u001b[0m\u001b[1;33m:\u001b[0m\u001b[1;33m\u001b[0m\u001b[1;33m\u001b[0m\u001b[0m\n\u001b[1;32m--> 235\u001b[1;33m             \u001b[1;32mraise\u001b[0m \u001b[0mAttributeError\u001b[0m\u001b[1;33m(\u001b[0m\u001b[1;34m\"Can only use .str accessor with string values!\"\u001b[0m\u001b[1;33m)\u001b[0m\u001b[1;33m\u001b[0m\u001b[1;33m\u001b[0m\u001b[0m\n\u001b[0m\u001b[0;32m    236\u001b[0m         \u001b[1;32mreturn\u001b[0m \u001b[0minferred_dtype\u001b[0m\u001b[1;33m\u001b[0m\u001b[1;33m\u001b[0m\u001b[0m\n\u001b[0;32m    237\u001b[0m \u001b[1;33m\u001b[0m\u001b[0m\n",
      "\u001b[1;31mAttributeError\u001b[0m: Can only use .str accessor with string values!"
     ]
    }
   ],
   "source": [
    "# The DataFrame is an object type inferring string.\n",
    "# There are dollar \"$\" signs as well as percent \"%\" signs, need to replace them.\n",
    "# Task: isolate and replace\n",
    "dol_loc_df = dol_df.loc[:, \"Profit Margin\"].str.replace(\"%\", \"\")\n",
    "dol_loc_df"
   ]
  },
  {
   "cell_type": "code",
   "execution_count": null,
   "id": "5800656c-3306-4392-8abe-f2d3bf712186",
   "metadata": {},
   "outputs": [],
   "source": [
    "# Replacing does not adjust numerical behavior.\n",
    "# Task: transform data type to numerical behavior like float\n",
    "dol_loc_df.astype(float)"
   ]
  },
  {
   "cell_type": "code",
   "execution_count": null,
   "id": "3219716e-6f9d-48b4-9182-8ab9a908d4f3",
   "metadata": {},
   "outputs": [],
   "source": [
    "# Now that the columms are converted to float and its ready to make some calculations.\n",
    "# Task: find out about missing data/values\n",
    "dol_loc_df.isnull()\n",
    "dol_loc_df.isnull().sum()\n"
   ]
  },
  {
   "cell_type": "code",
   "execution_count": null,
   "id": "5c960087-d4a9-4863-8102-d429d95516dc",
   "metadata": {},
   "outputs": [],
   "source": []
  },
  {
   "cell_type": "code",
   "execution_count": null,
   "id": "5d57d9d8-93c2-4662-8e6b-13e66898a714",
   "metadata": {},
   "outputs": [],
   "source": []
  },
  {
   "cell_type": "code",
   "execution_count": null,
   "id": "e9a2153f-a708-4382-95f1-605694a67f45",
   "metadata": {},
   "outputs": [],
   "source": []
  },
  {
   "cell_type": "code",
   "execution_count": null,
   "id": "e91817c6-fce7-4c8c-ac8b-497db731c483",
   "metadata": {},
   "outputs": [],
   "source": []
  },
  {
   "cell_type": "code",
   "execution_count": null,
   "id": "88527822-0e6d-4c9f-9cf9-4e6aa6bfadd6",
   "metadata": {},
   "outputs": [],
   "source": []
  }
 ],
 "metadata": {
  "kernelspec": {
   "display_name": "Python (dev)",
   "language": "python",
   "name": "dev"
  },
  "language_info": {
   "codemirror_mode": {
    "name": "ipython",
    "version": 3
   },
   "file_extension": ".py",
   "mimetype": "text/x-python",
   "name": "python",
   "nbconvert_exporter": "python",
   "pygments_lexer": "ipython3",
   "version": "3.9.15"
  }
 },
 "nbformat": 4,
 "nbformat_minor": 5
}
