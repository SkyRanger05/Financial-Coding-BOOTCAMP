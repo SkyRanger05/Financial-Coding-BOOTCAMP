{
 "cells": [
  {
   "cell_type": "code",
   "execution_count": 1,
   "id": "251c1949-3920-4e7a-8753-3cc3bd10658b",
   "metadata": {},
   "outputs": [],
   "source": [
    "# Import modules required from the library utilized in this assignment.\n",
    "from pathlib import Path\n",
    "import pandas as pd\n",
    "%matplotlib inline\n"
   ]
  },
  {
   "cell_type": "code",
   "execution_count": 5,
   "id": "2bf62570-5b35-4f5f-886c-ea989cec23fa",
   "metadata": {},
   "outputs": [],
   "source": [
    "# Make the connection to the CSV file source.\n",
    "rowing_csv = Path(r\"C:\\Users\\admin\\Desktop\\FinTech\\FinTech2022_Module3_Financial Analysis_Pandas\\03_Rowing_for_Yield_Redux\\Resources\\country_bond_rates.csv\")"
   ]
  },
  {
   "cell_type": "code",
   "execution_count": 6,
   "id": "2a678953-4428-403d-a274-91c3536588f7",
   "metadata": {},
   "outputs": [],
   "source": [
    "# Make Pandas read the CSV file.\n",
    "# Create dataframe variable.\n",
    "row_df = pd.read_csv(rowing_csv, index_col=\"Date\", parse_dates=True, infer_datetime_format=True)"
   ]
  },
  {
   "cell_type": "code",
   "execution_count": 12,
   "id": "dc390028-ae30-4ff7-8aa1-d4b85f9cb9d8",
   "metadata": {},
   "outputs": [
    {
     "data": {
      "text/html": [
       "<div>\n",
       "<style scoped>\n",
       "    .dataframe tbody tr th:only-of-type {\n",
       "        vertical-align: middle;\n",
       "    }\n",
       "\n",
       "    .dataframe tbody tr th {\n",
       "        vertical-align: top;\n",
       "    }\n",
       "\n",
       "    .dataframe thead th {\n",
       "        text-align: right;\n",
       "    }\n",
       "</style>\n",
       "<table border=\"1\" class=\"dataframe\">\n",
       "  <thead>\n",
       "    <tr style=\"text-align: right;\">\n",
       "      <th></th>\n",
       "      <th>Mexico</th>\n",
       "      <th>Brazil</th>\n",
       "      <th>South Africa</th>\n",
       "      <th>United Kingdom</th>\n",
       "      <th>USA</th>\n",
       "      <th>Spain</th>\n",
       "    </tr>\n",
       "    <tr>\n",
       "      <th>Date</th>\n",
       "      <th></th>\n",
       "      <th></th>\n",
       "      <th></th>\n",
       "      <th></th>\n",
       "      <th></th>\n",
       "      <th></th>\n",
       "    </tr>\n",
       "  </thead>\n",
       "  <tbody>\n",
       "    <tr>\n",
       "      <th>2000-01-01</th>\n",
       "      <td>16.19</td>\n",
       "      <td>19.3200</td>\n",
       "      <td>10.16</td>\n",
       "      <td>5.8227</td>\n",
       "      <td>5.33</td>\n",
       "      <td>3.80</td>\n",
       "    </tr>\n",
       "    <tr>\n",
       "      <th>2000-02-01</th>\n",
       "      <td>15.81</td>\n",
       "      <td>20.0000</td>\n",
       "      <td>9.78</td>\n",
       "      <td>5.6347</td>\n",
       "      <td>5.56</td>\n",
       "      <td>3.97</td>\n",
       "    </tr>\n",
       "    <tr>\n",
       "      <th>2000-03-01</th>\n",
       "      <td>13.66</td>\n",
       "      <td>18.2100</td>\n",
       "      <td>9.85</td>\n",
       "      <td>5.3707</td>\n",
       "      <td>5.72</td>\n",
       "      <td>4.10</td>\n",
       "    </tr>\n",
       "    <tr>\n",
       "      <th>2000-04-01</th>\n",
       "      <td>12.93</td>\n",
       "      <td>20.1300</td>\n",
       "      <td>9.88</td>\n",
       "      <td>5.3213</td>\n",
       "      <td>5.66</td>\n",
       "      <td>4.22</td>\n",
       "    </tr>\n",
       "    <tr>\n",
       "      <th>2000-05-01</th>\n",
       "      <td>14.18</td>\n",
       "      <td>20.2900</td>\n",
       "      <td>10.22</td>\n",
       "      <td>5.4033</td>\n",
       "      <td>5.92</td>\n",
       "      <td>4.68</td>\n",
       "    </tr>\n",
       "    <tr>\n",
       "      <th>...</th>\n",
       "      <td>...</td>\n",
       "      <td>...</td>\n",
       "      <td>...</td>\n",
       "      <td>...</td>\n",
       "      <td>...</td>\n",
       "      <td>...</td>\n",
       "    </tr>\n",
       "    <tr>\n",
       "      <th>2020-02-01</th>\n",
       "      <td>6.96</td>\n",
       "      <td>3.9608</td>\n",
       "      <td>6.33</td>\n",
       "      <td>0.6330</td>\n",
       "      <td>1.54</td>\n",
       "      <td>-0.45</td>\n",
       "    </tr>\n",
       "    <tr>\n",
       "      <th>2020-03-01</th>\n",
       "      <td>6.81</td>\n",
       "      <td>3.3784</td>\n",
       "      <td>6.09</td>\n",
       "      <td>0.4609</td>\n",
       "      <td>0.46</td>\n",
       "      <td>-0.38</td>\n",
       "    </tr>\n",
       "    <tr>\n",
       "      <th>2020-04-01</th>\n",
       "      <td>6.09</td>\n",
       "      <td>3.0123</td>\n",
       "      <td>5.10</td>\n",
       "      <td>0.3577</td>\n",
       "      <td>0.15</td>\n",
       "      <td>0.01</td>\n",
       "    </tr>\n",
       "    <tr>\n",
       "      <th>2020-05-01</th>\n",
       "      <td>5.47</td>\n",
       "      <td>2.5338</td>\n",
       "      <td>4.16</td>\n",
       "      <td>0.2743</td>\n",
       "      <td>0.12</td>\n",
       "      <td>-0.23</td>\n",
       "    </tr>\n",
       "    <tr>\n",
       "      <th>2020-06-01</th>\n",
       "      <td>5.06</td>\n",
       "      <td>2.2309</td>\n",
       "      <td>4.10</td>\n",
       "      <td>0.2780</td>\n",
       "      <td>0.16</td>\n",
       "      <td>-0.40</td>\n",
       "    </tr>\n",
       "  </tbody>\n",
       "</table>\n",
       "<p>243 rows × 6 columns</p>\n",
       "</div>"
      ],
      "text/plain": [
       "            Mexico   Brazil  South Africa  United Kingdom   USA  Spain\n",
       "Date                                                                  \n",
       "2000-01-01   16.19  19.3200         10.16          5.8227  5.33   3.80\n",
       "2000-02-01   15.81  20.0000          9.78          5.6347  5.56   3.97\n",
       "2000-03-01   13.66  18.2100          9.85          5.3707  5.72   4.10\n",
       "2000-04-01   12.93  20.1300          9.88          5.3213  5.66   4.22\n",
       "2000-05-01   14.18  20.2900         10.22          5.4033  5.92   4.68\n",
       "...            ...      ...           ...             ...   ...    ...\n",
       "2020-02-01    6.96   3.9608          6.33          0.6330  1.54  -0.45\n",
       "2020-03-01    6.81   3.3784          6.09          0.4609  0.46  -0.38\n",
       "2020-04-01    6.09   3.0123          5.10          0.3577  0.15   0.01\n",
       "2020-05-01    5.47   2.5338          4.16          0.2743  0.12  -0.23\n",
       "2020-06-01    5.06   2.2309          4.10          0.2780  0.16  -0.40\n",
       "\n",
       "[243 rows x 6 columns]"
      ]
     },
     "execution_count": 12,
     "metadata": {},
     "output_type": "execute_result"
    }
   ],
   "source": [
    "# Sample the dataframe.\n",
    "row_df\n"
   ]
  },
  {
   "cell_type": "markdown",
   "id": "c4a9ea00-2db3-4094-979b-45f647c5f773",
   "metadata": {},
   "source": [
    "# C.P.A."
   ]
  },
  {
   "cell_type": "code",
   "execution_count": 15,
   "id": "cd8499ad-82f4-4894-b74c-d05e88c3ea2d",
   "metadata": {},
   "outputs": [
    {
     "data": {
      "text/plain": [
       "Mexico            0\n",
       "Brazil            0\n",
       "South Africa      0\n",
       "United Kingdom    0\n",
       "USA               0\n",
       "Spain             0\n",
       "dtype: int64"
      ]
     },
     "execution_count": 15,
     "metadata": {},
     "output_type": "execute_result"
    }
   ],
   "source": [
    "# Prepare data.\n",
    "row_df.isnull().sum()"
   ]
  },
  {
   "cell_type": "code",
   "execution_count": 19,
   "id": "068a2c1f-e679-4771-b12f-177eb7921428",
   "metadata": {},
   "outputs": [
    {
     "data": {
      "text/plain": [
       "0"
      ]
     },
     "execution_count": 19,
     "metadata": {},
     "output_type": "execute_result"
    }
   ],
   "source": [
    "# Confirm duplicates.\n",
    "row_df.duplicated().sum()"
   ]
  },
  {
   "cell_type": "code",
   "execution_count": 24,
   "id": "47d7c032-d966-4db6-914c-491b38bfda1f",
   "metadata": {},
   "outputs": [
    {
     "data": {
      "text/plain": [
       "Mexico            float64\n",
       "Brazil            float64\n",
       "South Africa      float64\n",
       "United Kingdom    float64\n",
       "USA               float64\n",
       "Spain             float64\n",
       "dtype: object"
      ]
     },
     "execution_count": 24,
     "metadata": {},
     "output_type": "execute_result"
    }
   ],
   "source": [
    "# Confirm numerical behavior.\n",
    "row_df.dtypes"
   ]
  },
  {
   "cell_type": "code",
   "execution_count": 28,
   "id": "d9bd182a-3948-4540-83c3-ab3a2a2499a6",
   "metadata": {},
   "outputs": [
    {
     "data": {
      "text/plain": [
       "Date\n",
       "2000-01-01    10.16\n",
       "2000-02-01     9.78\n",
       "2000-03-01     9.85\n",
       "2000-04-01     9.88\n",
       "2000-05-01    10.22\n",
       "2000-06-01    50.00\n",
       "2000-07-01    10.23\n",
       "2000-08-01    10.15\n",
       "2000-09-01    10.16\n",
       "2000-10-01    10.19\n",
       "Name: South Africa, dtype: float64"
      ]
     },
     "execution_count": 28,
     "metadata": {},
     "output_type": "execute_result"
    }
   ],
   "source": [
    "# Select the first 10 rows of the third column.\n",
    "southAF_df = row_df.iloc[0:10,2]\n",
    "southAF_df"
   ]
  },
  {
   "cell_type": "code",
   "execution_count": 31,
   "id": "698741c1-1a51-46d2-a0ad-2a506447fa47",
   "metadata": {},
   "outputs": [
    {
     "data": {
      "text/plain": [
       "Date\n",
       "2000-01-01    5.33\n",
       "2000-02-01    5.56\n",
       "2000-03-01    5.72\n",
       "2000-04-01    5.66\n",
       "2000-05-01    5.92\n",
       "              ... \n",
       "2020-02-01    1.54\n",
       "2020-03-01    0.46\n",
       "2020-04-01    0.15\n",
       "2020-05-01    0.12\n",
       "2020-06-01    0.16\n",
       "Name: USA, Length: 243, dtype: float64"
      ]
     },
     "execution_count": 31,
     "metadata": {},
     "output_type": "execute_result"
    }
   ],
   "source": [
    "# Select all rows for US yields.\n",
    "US_df = row_df.loc[:, \"USA\"]\n",
    "US_df\n"
   ]
  },
  {
   "cell_type": "code",
   "execution_count": 32,
   "id": "e4cd8906-0615-40c6-a077-e537614886a4",
   "metadata": {},
   "outputs": [
    {
     "data": {
      "text/plain": [
       "<AxesSubplot: xlabel='Date'>"
      ]
     },
     "execution_count": 32,
     "metadata": {},
     "output_type": "execute_result"
    },
    {
     "data": {
      "image/png": "[encoded data removed]",
      "text/plain": [
       "<Figure size 640x480 with 1 Axes>"
      ]
     },
     "metadata": {},
     "output_type": "display_data"
    }
   ],
   "source": [
    "US_df.plot()"
   ]
  },
  {
   "cell_type": "code",
   "execution_count": 33,
   "id": "a55ffc03-bce4-4810-a806-4000353701ec",
   "metadata": {},
   "outputs": [
    {
     "data": {
      "text/plain": [
       "<AxesSubplot: ylabel='Frequency'>"
      ]
     },
     "execution_count": 33,
     "metadata": {},
     "output_type": "execute_result"
    },
    {
     "data": {
      "image/png": "[encoded data removed]",
      "text/plain": [
       "<Figure size 640x480 with 1 Axes>"
      ]
     },
     "metadata": {},
     "output_type": "display_data"
    }
   ],
   "source": [
    "US_df.plot(kind=\"hist\")"
   ]
  },
  {
   "cell_type": "code",
   "execution_count": null,
   "id": "5abda962-1143-4c53-98ae-dd85f73fafac",
   "metadata": {},
   "outputs": [],
   "source": []
  }
 ],
 "metadata": {
  "kernelspec": {
   "display_name": "Python (bingo)",
   "language": "python",
   "name": "bingo"
  },
  "language_info": {
   "codemirror_mode": {
    "name": "ipython",
    "version": 3
   },
   "file_extension": ".py",
   "mimetype": "text/x-python",
   "name": "python",
   "nbconvert_exporter": "python",
   "pygments_lexer": "ipython3",
   "version": "3.9.13"
  }
 },
 "nbformat": 4,
 "nbformat_minor": 5
}
