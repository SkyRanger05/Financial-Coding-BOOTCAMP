{
 "cells": [
  {
   "cell_type": "code",
   "execution_count": 1,
   "id": "e04267ac-314d-4c4f-bc0d-977719013f76",
   "metadata": {},
   "outputs": [],
   "source": [
    "# Import all the modules associated with the pandas, pathlib library.\n",
    "import pandas as pd\n",
    "from pathlib import Path"
   ]
  },
  {
   "cell_type": "code",
   "execution_count": 5,
   "id": "c0ed3d5d-b71d-47a6-b9a4-ba8ddb25ac74",
   "metadata": {},
   "outputs": [],
   "source": [
    "# Make the connection to the source file.\n",
    "ret_csv = Path(r\"C:\\Users\\admin\\Desktop\\FinTech\\FinTech2022_Module3_Financial Analysis_Pandas\\01-Summary_Statistics\\returns.csv\")"
   ]
  },
  {
   "cell_type": "code",
   "execution_count": 6,
   "id": "12b36a77-f7de-4d4e-bcf6-18fbc4fc0c6b",
   "metadata": {},
   "outputs": [],
   "source": [
    "# Make Pandas read the CSV file.\n",
    "# Create Pandas DataFrame.\n",
    "ret_df = pd.read_csv(ret_csv)"
   ]
  },
  {
   "cell_type": "code",
   "execution_count": 9,
   "id": "e97cfb7b-d981-4032-aa3a-0d41c95d9bea",
   "metadata": {},
   "outputs": [
    {
     "data": {
      "text/html": [
       "<div>\n",
       "<style scoped>\n",
       "    .dataframe tbody tr th:only-of-type {\n",
       "        vertical-align: middle;\n",
       "    }\n",
       "\n",
       "    .dataframe tbody tr th {\n",
       "        vertical-align: top;\n",
       "    }\n",
       "\n",
       "    .dataframe thead th {\n",
       "        text-align: right;\n",
       "    }\n",
       "</style>\n",
       "<table border=\"1\" class=\"dataframe\">\n",
       "  <thead>\n",
       "    <tr style=\"text-align: right;\">\n",
       "      <th></th>\n",
       "      <th>Unnamed: 0</th>\n",
       "      <th>Stock A</th>\n",
       "      <th>Stock B</th>\n",
       "      <th>Stock C</th>\n",
       "    </tr>\n",
       "  </thead>\n",
       "  <tbody>\n",
       "    <tr>\n",
       "      <th>0</th>\n",
       "      <td>2020-01-06</td>\n",
       "      <td>2.061447</td>\n",
       "      <td>0.917560</td>\n",
       "      <td>0.416361</td>\n",
       "    </tr>\n",
       "    <tr>\n",
       "      <th>1</th>\n",
       "      <td>2020-01-07</td>\n",
       "      <td>1.542626</td>\n",
       "      <td>0.919384</td>\n",
       "      <td>1.757246</td>\n",
       "    </tr>\n",
       "    <tr>\n",
       "      <th>2</th>\n",
       "      <td>2020-01-08</td>\n",
       "      <td>-2.666572</td>\n",
       "      <td>-0.028768</td>\n",
       "      <td>0.962098</td>\n",
       "    </tr>\n",
       "    <tr>\n",
       "      <th>3</th>\n",
       "      <td>2020-01-09</td>\n",
       "      <td>3.169014</td>\n",
       "      <td>0.108129</td>\n",
       "      <td>1.665737</td>\n",
       "    </tr>\n",
       "    <tr>\n",
       "      <th>4</th>\n",
       "      <td>2020-01-10</td>\n",
       "      <td>-0.314594</td>\n",
       "      <td>-0.595625</td>\n",
       "      <td>0.534615</td>\n",
       "    </tr>\n",
       "  </tbody>\n",
       "</table>\n",
       "</div>"
      ],
      "text/plain": [
       "   Unnamed: 0   Stock A   Stock B   Stock C\n",
       "0  2020-01-06  2.061447  0.917560  0.416361\n",
       "1  2020-01-07  1.542626  0.919384  1.757246\n",
       "2  2020-01-08 -2.666572 -0.028768  0.962098\n",
       "3  2020-01-09  3.169014  0.108129  1.665737\n",
       "4  2020-01-10 -0.314594 -0.595625  0.534615"
      ]
     },
     "execution_count": 9,
     "metadata": {},
     "output_type": "execute_result"
    }
   ],
   "source": [
    "# Take sample population from the source file.\n",
    "ret_df.head()"
   ]
  },
  {
   "cell_type": "code",
   "execution_count": 10,
   "id": "4dbb8b2c-e6d2-4254-95d4-db008ae3f46e",
   "metadata": {},
   "outputs": [
    {
     "data": {
      "text/plain": [
       "(5, 4)"
      ]
     },
     "execution_count": 10,
     "metadata": {},
     "output_type": "execute_result"
    }
   ],
   "source": [
    "ret_df.shape"
   ]
  },
  {
   "cell_type": "code",
   "execution_count": null,
   "id": "47e2673d-e4b1-4d74-96c9-e8a7886aeb5b",
   "metadata": {},
   "outputs": [],
   "source": []
  }
 ],
 "metadata": {
  "kernelspec": {
   "display_name": "Python (akobalay)",
   "language": "python",
   "name": "dev"
  },
  "language_info": {
   "codemirror_mode": {
    "name": "ipython",
    "version": 3
   },
   "file_extension": ".py",
   "mimetype": "text/x-python",
   "name": "python",
   "nbconvert_exporter": "python",
   "pygments_lexer": "ipython3",
   "version": "3.9.15"
  }
 },
 "nbformat": 4,
 "nbformat_minor": 5
}
