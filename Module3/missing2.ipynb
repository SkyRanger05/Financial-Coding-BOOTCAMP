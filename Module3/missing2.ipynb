{
 "cells": [
  {
   "cell_type": "markdown",
   "id": "34d74155-6f95-45d2-b2c0-ce26eca76d0c",
   "metadata": {},
   "source": [
    "# Head of code:\n",
    "1. What type of encoding utilized?\n",
    "2. Impost necessary libraries"
   ]
  },
  {
   "cell_type": "code",
   "execution_count": 1,
   "id": "6eccf3ef-3db0-48f1-8a9a-52b7d428cd50",
   "metadata": {},
   "outputs": [],
   "source": [
    "import pandas as pd\n",
    "from pathlib import Path"
   ]
  },
  {
   "cell_type": "markdown",
   "id": "5d5512c4-8d88-4601-a6f0-d63b455c772e",
   "metadata": {},
   "source": [
    "# Next block:\n",
    "**-** Make the connection between the file sources."
   ]
  },
  {
   "cell_type": "code",
   "execution_count": 2,
   "id": "d41a94a0-20d4-4584-acc1-fa639b91ae99",
   "metadata": {},
   "outputs": [],
   "source": [
    "miss2_csv = Path(r\"C:\\Users\\admin\\Desktop\\FinTech\\FinTech2022_Module3_Financial Analysis_Pandas\\01_Missing_Money\\01_Missing_Money\\Resources\\money_flows.csv\")"
   ]
  },
  {
   "cell_type": "markdown",
   "id": "9b4ae175-90fa-4bdf-808b-2e5806f627dc",
   "metadata": {},
   "source": [
    "# Next block:\n",
    "__-__ Make Pandas read the file.\\\n",
    "**-** Make Pandas create the dataframe."
   ]
  },
  {
   "cell_type": "code",
   "execution_count": 3,
   "id": "cc347466-c49a-4566-9894-e045c9c447cc",
   "metadata": {},
   "outputs": [
    {
     "data": {
      "text/html": [
       "<div>\n",
       "<style scoped>\n",
       "    .dataframe tbody tr th:only-of-type {\n",
       "        vertical-align: middle;\n",
       "    }\n",
       "\n",
       "    .dataframe tbody tr th {\n",
       "        vertical-align: top;\n",
       "    }\n",
       "\n",
       "    .dataframe thead th {\n",
       "        text-align: right;\n",
       "    }\n",
       "</style>\n",
       "<table border=\"1\" class=\"dataframe\">\n",
       "  <thead>\n",
       "    <tr style=\"text-align: right;\">\n",
       "      <th></th>\n",
       "      <th>Date</th>\n",
       "      <th>Total Payments</th>\n",
       "    </tr>\n",
       "  </thead>\n",
       "  <tbody>\n",
       "    <tr>\n",
       "      <th>0</th>\n",
       "      <td>1/1/20</td>\n",
       "      <td>NaN</td>\n",
       "    </tr>\n",
       "    <tr>\n",
       "      <th>1</th>\n",
       "      <td>1/2/20</td>\n",
       "      <td>1.04</td>\n",
       "    </tr>\n",
       "    <tr>\n",
       "      <th>2</th>\n",
       "      <td>1/3/20</td>\n",
       "      <td>1.65</td>\n",
       "    </tr>\n",
       "    <tr>\n",
       "      <th>3</th>\n",
       "      <td>1/3/20</td>\n",
       "      <td>1.65</td>\n",
       "    </tr>\n",
       "    <tr>\n",
       "      <th>4</th>\n",
       "      <td>1/3/20</td>\n",
       "      <td>1.65</td>\n",
       "    </tr>\n",
       "    <tr>\n",
       "      <th>...</th>\n",
       "      <td>...</td>\n",
       "      <td>...</td>\n",
       "    </tr>\n",
       "    <tr>\n",
       "      <th>363</th>\n",
       "      <td>12/26/20</td>\n",
       "      <td>210.13</td>\n",
       "    </tr>\n",
       "    <tr>\n",
       "      <th>364</th>\n",
       "      <td>12/27/20</td>\n",
       "      <td>211.08</td>\n",
       "    </tr>\n",
       "    <tr>\n",
       "      <th>365</th>\n",
       "      <td>12/28/20</td>\n",
       "      <td>213.27</td>\n",
       "    </tr>\n",
       "    <tr>\n",
       "      <th>366</th>\n",
       "      <td>12/29/20</td>\n",
       "      <td>217.28</td>\n",
       "    </tr>\n",
       "    <tr>\n",
       "      <th>367</th>\n",
       "      <td>12/30/20</td>\n",
       "      <td>221.46</td>\n",
       "    </tr>\n",
       "  </tbody>\n",
       "</table>\n",
       "<p>368 rows × 2 columns</p>\n",
       "</div>"
      ],
      "text/plain": [
       "         Date  Total Payments\n",
       "0      1/1/20             NaN\n",
       "1      1/2/20            1.04\n",
       "2      1/3/20            1.65\n",
       "3      1/3/20            1.65\n",
       "4      1/3/20            1.65\n",
       "..        ...             ...\n",
       "363  12/26/20          210.13\n",
       "364  12/27/20          211.08\n",
       "365  12/28/20          213.27\n",
       "366  12/29/20          217.28\n",
       "367  12/30/20          221.46\n",
       "\n",
       "[368 rows x 2 columns]"
      ]
     },
     "execution_count": 3,
     "metadata": {},
     "output_type": "execute_result"
    }
   ],
   "source": [
    "miss2_df = pd.read_csv(miss2_csv)\n",
    "miss2_df"
   ]
  },
  {
   "cell_type": "markdown",
   "id": "69b3e7b9-f035-4a68-90fc-0def6e833472",
   "metadata": {},
   "source": [
    "# C.P.A.\n",
    "### Fix dataframe asthetics\n",
    "**-** Fix the column index so that information in the date column can be utilize"
   ]
  },
  {
   "cell_type": "code",
   "execution_count": 4,
   "id": "3b51f779-9e27-4e65-9973-c1730c74bbbb",
   "metadata": {},
   "outputs": [
    {
     "data": {
      "text/html": [
       "<div>\n",
       "<style scoped>\n",
       "    .dataframe tbody tr th:only-of-type {\n",
       "        vertical-align: middle;\n",
       "    }\n",
       "\n",
       "    .dataframe tbody tr th {\n",
       "        vertical-align: top;\n",
       "    }\n",
       "\n",
       "    .dataframe thead th {\n",
       "        text-align: right;\n",
       "    }\n",
       "</style>\n",
       "<table border=\"1\" class=\"dataframe\">\n",
       "  <thead>\n",
       "    <tr style=\"text-align: right;\">\n",
       "      <th></th>\n",
       "      <th>Total Payments</th>\n",
       "    </tr>\n",
       "    <tr>\n",
       "      <th>Date</th>\n",
       "      <th></th>\n",
       "    </tr>\n",
       "  </thead>\n",
       "  <tbody>\n",
       "    <tr>\n",
       "      <th>2020-01-01</th>\n",
       "      <td>NaN</td>\n",
       "    </tr>\n",
       "    <tr>\n",
       "      <th>2020-01-02</th>\n",
       "      <td>1.04</td>\n",
       "    </tr>\n",
       "    <tr>\n",
       "      <th>2020-01-03</th>\n",
       "      <td>1.65</td>\n",
       "    </tr>\n",
       "    <tr>\n",
       "      <th>2020-01-03</th>\n",
       "      <td>1.65</td>\n",
       "    </tr>\n",
       "    <tr>\n",
       "      <th>2020-01-03</th>\n",
       "      <td>1.65</td>\n",
       "    </tr>\n",
       "    <tr>\n",
       "      <th>...</th>\n",
       "      <td>...</td>\n",
       "    </tr>\n",
       "    <tr>\n",
       "      <th>2020-12-26</th>\n",
       "      <td>210.13</td>\n",
       "    </tr>\n",
       "    <tr>\n",
       "      <th>2020-12-27</th>\n",
       "      <td>211.08</td>\n",
       "    </tr>\n",
       "    <tr>\n",
       "      <th>2020-12-28</th>\n",
       "      <td>213.27</td>\n",
       "    </tr>\n",
       "    <tr>\n",
       "      <th>2020-12-29</th>\n",
       "      <td>217.28</td>\n",
       "    </tr>\n",
       "    <tr>\n",
       "      <th>2020-12-30</th>\n",
       "      <td>221.46</td>\n",
       "    </tr>\n",
       "  </tbody>\n",
       "</table>\n",
       "<p>368 rows × 1 columns</p>\n",
       "</div>"
      ],
      "text/plain": [
       "            Total Payments\n",
       "Date                      \n",
       "2020-01-01             NaN\n",
       "2020-01-02            1.04\n",
       "2020-01-03            1.65\n",
       "2020-01-03            1.65\n",
       "2020-01-03            1.65\n",
       "...                    ...\n",
       "2020-12-26          210.13\n",
       "2020-12-27          211.08\n",
       "2020-12-28          213.27\n",
       "2020-12-29          217.28\n",
       "2020-12-30          221.46\n",
       "\n",
       "[368 rows x 1 columns]"
      ]
     },
     "execution_count": 4,
     "metadata": {},
     "output_type": "execute_result"
    }
   ],
   "source": [
    "miss2_df = pd.read_csv(miss2_csv, index_col=\"Date\", parse_dates=True, infer_datetime_format=True)\n",
    "miss2_df"
   ]
  },
  {
   "cell_type": "code",
   "execution_count": null,
   "id": "d692cf1e-20ec-489e-b79e-8bb7f1e2e1a0",
   "metadata": {},
   "outputs": [],
   "source": []
  },
  {
   "cell_type": "code",
   "execution_count": null,
   "id": "ccbf88ae-7442-461f-a8d0-e1b88fe07235",
   "metadata": {},
   "outputs": [],
   "source": []
  },
  {
   "cell_type": "code",
   "execution_count": null,
   "id": "077b5c74-1d67-4566-9a47-ac1976eda2cc",
   "metadata": {},
   "outputs": [],
   "source": []
  },
  {
   "cell_type": "code",
   "execution_count": null,
   "id": "0bacf7d7-58b2-42d4-a257-f089017c1635",
   "metadata": {},
   "outputs": [],
   "source": []
  },
  {
   "cell_type": "markdown",
   "id": "5dada8b4-35d8-44c2-a2ee-4ae34b9a4b11",
   "metadata": {},
   "source": [
    "# C.P.A.\n",
    "**-** There is a missing data/value.\n",
    "\n",
    "__-__ Requirement:\n",
    ">- Statistics about the missing data(s)\\\n",
    ">- Manipulate missing data/values\\\n",
    "- Determination: Materiality - Significant or Non-significant"
   ]
  },
  {
   "cell_type": "code",
   "execution_count": 5,
   "id": "e3125ae9-bfdc-41a7-8178-d63d63c8af89",
   "metadata": {},
   "outputs": [
    {
     "data": {
      "text/html": [
       "<div>\n",
       "<style scoped>\n",
       "    .dataframe tbody tr th:only-of-type {\n",
       "        vertical-align: middle;\n",
       "    }\n",
       "\n",
       "    .dataframe tbody tr th {\n",
       "        vertical-align: top;\n",
       "    }\n",
       "\n",
       "    .dataframe thead th {\n",
       "        text-align: right;\n",
       "    }\n",
       "</style>\n",
       "<table border=\"1\" class=\"dataframe\">\n",
       "  <thead>\n",
       "    <tr style=\"text-align: right;\">\n",
       "      <th></th>\n",
       "      <th>Total Payments</th>\n",
       "    </tr>\n",
       "    <tr>\n",
       "      <th>Date</th>\n",
       "      <th></th>\n",
       "    </tr>\n",
       "  </thead>\n",
       "  <tbody>\n",
       "    <tr>\n",
       "      <th>2020-01-01</th>\n",
       "      <td>True</td>\n",
       "    </tr>\n",
       "    <tr>\n",
       "      <th>2020-01-02</th>\n",
       "      <td>False</td>\n",
       "    </tr>\n",
       "    <tr>\n",
       "      <th>2020-01-03</th>\n",
       "      <td>False</td>\n",
       "    </tr>\n",
       "    <tr>\n",
       "      <th>2020-01-03</th>\n",
       "      <td>False</td>\n",
       "    </tr>\n",
       "    <tr>\n",
       "      <th>2020-01-03</th>\n",
       "      <td>False</td>\n",
       "    </tr>\n",
       "    <tr>\n",
       "      <th>...</th>\n",
       "      <td>...</td>\n",
       "    </tr>\n",
       "    <tr>\n",
       "      <th>2020-12-26</th>\n",
       "      <td>False</td>\n",
       "    </tr>\n",
       "    <tr>\n",
       "      <th>2020-12-27</th>\n",
       "      <td>False</td>\n",
       "    </tr>\n",
       "    <tr>\n",
       "      <th>2020-12-28</th>\n",
       "      <td>False</td>\n",
       "    </tr>\n",
       "    <tr>\n",
       "      <th>2020-12-29</th>\n",
       "      <td>False</td>\n",
       "    </tr>\n",
       "    <tr>\n",
       "      <th>2020-12-30</th>\n",
       "      <td>False</td>\n",
       "    </tr>\n",
       "  </tbody>\n",
       "</table>\n",
       "<p>368 rows × 1 columns</p>\n",
       "</div>"
      ],
      "text/plain": [
       "            Total Payments\n",
       "Date                      \n",
       "2020-01-01            True\n",
       "2020-01-02           False\n",
       "2020-01-03           False\n",
       "2020-01-03           False\n",
       "2020-01-03           False\n",
       "...                    ...\n",
       "2020-12-26           False\n",
       "2020-12-27           False\n",
       "2020-12-28           False\n",
       "2020-12-29           False\n",
       "2020-12-30           False\n",
       "\n",
       "[368 rows x 1 columns]"
      ]
     },
     "execution_count": 5,
     "metadata": {},
     "output_type": "execute_result"
    }
   ],
   "source": [
    "miss2_df.isnull()\n"
   ]
  },
  {
   "cell_type": "code",
   "execution_count": 6,
   "id": "38c590b2-f9ee-4920-bcd6-ea65889584e6",
   "metadata": {},
   "outputs": [
    {
     "data": {
      "text/plain": [
       "Total Payments    10\n",
       "dtype: int64"
      ]
     },
     "execution_count": 6,
     "metadata": {},
     "output_type": "execute_result"
    }
   ],
   "source": [
    "miss2_df.isnull().sum()\n"
   ]
  },
  {
   "cell_type": "code",
   "execution_count": 7,
   "id": "22ecf082-ed91-4200-9bc9-fe396042e46e",
   "metadata": {},
   "outputs": [
    {
     "data": {
      "text/plain": [
       "Total Payments    0.027174\n",
       "dtype: float64"
      ]
     },
     "execution_count": 7,
     "metadata": {},
     "output_type": "execute_result"
    }
   ],
   "source": [
    "miss2_df.isnull().mean()"
   ]
  },
  {
   "cell_type": "markdown",
   "id": "f4248ee2-d967-4a9c-8a6c-90e08aadb0f0",
   "metadata": {},
   "source": [
    "# Conclusion: Missing Values\n",
    "### Proceed by:\n",
    "- Missing values making up 2.7% of its entirety in Total Payments Column: materially non-significant\\\n",
    "- Proceed by: dropping or replacing (\"Unknown\", 0, mean)"
   ]
  },
  {
   "cell_type": "code",
   "execution_count": 13,
   "id": "7f70dbbe-c986-4f71-a105-5c02a8e5d737",
   "metadata": {},
   "outputs": [
    {
     "data": {
      "text/html": [
       "<div>\n",
       "<style scoped>\n",
       "    .dataframe tbody tr th:only-of-type {\n",
       "        vertical-align: middle;\n",
       "    }\n",
       "\n",
       "    .dataframe tbody tr th {\n",
       "        vertical-align: top;\n",
       "    }\n",
       "\n",
       "    .dataframe thead th {\n",
       "        text-align: right;\n",
       "    }\n",
       "</style>\n",
       "<table border=\"1\" class=\"dataframe\">\n",
       "  <thead>\n",
       "    <tr style=\"text-align: right;\">\n",
       "      <th></th>\n",
       "      <th>Total Payments</th>\n",
       "    </tr>\n",
       "    <tr>\n",
       "      <th>Date</th>\n",
       "      <th></th>\n",
       "    </tr>\n",
       "  </thead>\n",
       "  <tbody>\n",
       "    <tr>\n",
       "      <th>2020-01-01</th>\n",
       "      <td>NaN</td>\n",
       "    </tr>\n",
       "    <tr>\n",
       "      <th>2020-01-02</th>\n",
       "      <td>1.04</td>\n",
       "    </tr>\n",
       "    <tr>\n",
       "      <th>2020-01-03</th>\n",
       "      <td>1.65</td>\n",
       "    </tr>\n",
       "    <tr>\n",
       "      <th>2020-01-03</th>\n",
       "      <td>1.65</td>\n",
       "    </tr>\n",
       "    <tr>\n",
       "      <th>2020-01-03</th>\n",
       "      <td>1.65</td>\n",
       "    </tr>\n",
       "    <tr>\n",
       "      <th>...</th>\n",
       "      <td>...</td>\n",
       "    </tr>\n",
       "    <tr>\n",
       "      <th>2020-12-26</th>\n",
       "      <td>210.13</td>\n",
       "    </tr>\n",
       "    <tr>\n",
       "      <th>2020-12-27</th>\n",
       "      <td>211.08</td>\n",
       "    </tr>\n",
       "    <tr>\n",
       "      <th>2020-12-28</th>\n",
       "      <td>213.27</td>\n",
       "    </tr>\n",
       "    <tr>\n",
       "      <th>2020-12-29</th>\n",
       "      <td>217.28</td>\n",
       "    </tr>\n",
       "    <tr>\n",
       "      <th>2020-12-30</th>\n",
       "      <td>221.46</td>\n",
       "    </tr>\n",
       "  </tbody>\n",
       "</table>\n",
       "<p>368 rows × 1 columns</p>\n",
       "</div>"
      ],
      "text/plain": [
       "            Total Payments\n",
       "Date                      \n",
       "2020-01-01             NaN\n",
       "2020-01-02            1.04\n",
       "2020-01-03            1.65\n",
       "2020-01-03            1.65\n",
       "2020-01-03            1.65\n",
       "...                    ...\n",
       "2020-12-26          210.13\n",
       "2020-12-27          211.08\n",
       "2020-12-28          213.27\n",
       "2020-12-29          217.28\n",
       "2020-12-30          221.46\n",
       "\n",
       "[368 rows x 1 columns]"
      ]
     },
     "execution_count": 13,
     "metadata": {},
     "output_type": "execute_result"
    }
   ],
   "source": [
    "# Call the dataframe.\n",
    "miss2_df"
   ]
  },
  {
   "cell_type": "code",
   "execution_count": 8,
   "id": "7112002f-b70b-4700-b791-2fd9ce125607",
   "metadata": {},
   "outputs": [],
   "source": [
    "# Create a new \"drop missing\" version of the dataframe.\n",
    "miss2_drp_df = miss2_df.dropna()\n"
   ]
  },
  {
   "cell_type": "markdown",
   "id": "44ae21b8-8d0f-4bd2-aa1a-1e2c3066364f",
   "metadata": {},
   "source": [
    "# C.P.A.\n",
    "### Dropping\n",
    "##### Validation\n",
    "- Confirming the drop items by asking are there __NaN__ present in the dataframe?"
   ]
  },
  {
   "cell_type": "code",
   "execution_count": 9,
   "id": "3993d260-82a5-4fd5-83e4-f03b4320f87f",
   "metadata": {},
   "outputs": [
    {
     "data": {
      "text/plain": [
       "Total Payments    0\n",
       "dtype: int64"
      ]
     },
     "execution_count": 9,
     "metadata": {},
     "output_type": "execute_result"
    }
   ],
   "source": [
    "miss2_drp_df.isnull().sum()\n"
   ]
  },
  {
   "cell_type": "code",
   "execution_count": 10,
   "id": "ed4dd782-1eb8-4ab0-b7d2-1bc3b75de212",
   "metadata": {},
   "outputs": [
    {
     "data": {
      "text/plain": [
       "Total Payments    0.0\n",
       "dtype: float64"
      ]
     },
     "execution_count": 10,
     "metadata": {},
     "output_type": "execute_result"
    }
   ],
   "source": [
    "miss2_drp_df.isnull().mean()\n"
   ]
  },
  {
   "cell_type": "markdown",
   "id": "8fb785ff-423f-4f30-bb93-65375d594f8e",
   "metadata": {},
   "source": [
    "### Validated: \n",
    "#### There are no known **NaNs** present at this point."
   ]
  },
  {
   "cell_type": "code",
   "execution_count": null,
   "id": "891544eb-d59b-4b07-b021-5d16f7e07bab",
   "metadata": {},
   "outputs": [],
   "source": []
  },
  {
   "cell_type": "markdown",
   "id": "9eb59b2a-2e00-4bb9-96a2-d22e4f41c3d1",
   "metadata": {},
   "source": [
    "# C.P.A.\n",
    "### Replacing: \"Unknown\", 0, mean\n",
    "##### Validation\n",
    "- Confirming replacements are present by asking are there __\"Unknown\", 0, mean__ present in the dataframe?"
   ]
  },
  {
   "cell_type": "code",
   "execution_count": 12,
   "id": "bdb1ea93-572a-4668-a555-138fa2484e54",
   "metadata": {},
   "outputs": [
    {
     "data": {
      "text/html": [
       "<div>\n",
       "<style scoped>\n",
       "    .dataframe tbody tr th:only-of-type {\n",
       "        vertical-align: middle;\n",
       "    }\n",
       "\n",
       "    .dataframe tbody tr th {\n",
       "        vertical-align: top;\n",
       "    }\n",
       "\n",
       "    .dataframe thead th {\n",
       "        text-align: right;\n",
       "    }\n",
       "</style>\n",
       "<table border=\"1\" class=\"dataframe\">\n",
       "  <thead>\n",
       "    <tr style=\"text-align: right;\">\n",
       "      <th></th>\n",
       "      <th>Total Payments</th>\n",
       "    </tr>\n",
       "    <tr>\n",
       "      <th>Date</th>\n",
       "      <th></th>\n",
       "    </tr>\n",
       "  </thead>\n",
       "  <tbody>\n",
       "    <tr>\n",
       "      <th>2020-01-01</th>\n",
       "      <td>NaN</td>\n",
       "    </tr>\n",
       "    <tr>\n",
       "      <th>2020-01-02</th>\n",
       "      <td>1.04</td>\n",
       "    </tr>\n",
       "    <tr>\n",
       "      <th>2020-01-03</th>\n",
       "      <td>1.65</td>\n",
       "    </tr>\n",
       "    <tr>\n",
       "      <th>2020-01-03</th>\n",
       "      <td>1.65</td>\n",
       "    </tr>\n",
       "    <tr>\n",
       "      <th>2020-01-03</th>\n",
       "      <td>1.65</td>\n",
       "    </tr>\n",
       "    <tr>\n",
       "      <th>...</th>\n",
       "      <td>...</td>\n",
       "    </tr>\n",
       "    <tr>\n",
       "      <th>2020-12-26</th>\n",
       "      <td>210.13</td>\n",
       "    </tr>\n",
       "    <tr>\n",
       "      <th>2020-12-27</th>\n",
       "      <td>211.08</td>\n",
       "    </tr>\n",
       "    <tr>\n",
       "      <th>2020-12-28</th>\n",
       "      <td>213.27</td>\n",
       "    </tr>\n",
       "    <tr>\n",
       "      <th>2020-12-29</th>\n",
       "      <td>217.28</td>\n",
       "    </tr>\n",
       "    <tr>\n",
       "      <th>2020-12-30</th>\n",
       "      <td>221.46</td>\n",
       "    </tr>\n",
       "  </tbody>\n",
       "</table>\n",
       "<p>368 rows × 1 columns</p>\n",
       "</div>"
      ],
      "text/plain": [
       "            Total Payments\n",
       "Date                      \n",
       "2020-01-01             NaN\n",
       "2020-01-02            1.04\n",
       "2020-01-03            1.65\n",
       "2020-01-03            1.65\n",
       "2020-01-03            1.65\n",
       "...                    ...\n",
       "2020-12-26          210.13\n",
       "2020-12-27          211.08\n",
       "2020-12-28          213.27\n",
       "2020-12-29          217.28\n",
       "2020-12-30          221.46\n",
       "\n",
       "[368 rows x 1 columns]"
      ]
     },
     "execution_count": 12,
     "metadata": {},
     "output_type": "execute_result"
    }
   ],
   "source": [
    "# Call the dataframe.\n",
    "miss2_df"
   ]
  },
  {
   "cell_type": "code",
   "execution_count": null,
   "id": "9d533738-9d36-459a-b951-e731701690b9",
   "metadata": {},
   "outputs": [],
   "source": []
  },
  {
   "cell_type": "code",
   "execution_count": null,
   "id": "df438a38-3daf-4099-8227-7d68b280dc13",
   "metadata": {},
   "outputs": [],
   "source": []
  },
  {
   "cell_type": "code",
   "execution_count": null,
   "id": "69112b9e-12ea-4ebf-aca5-944ec1e4a663",
   "metadata": {},
   "outputs": [],
   "source": []
  },
  {
   "cell_type": "code",
   "execution_count": null,
   "id": "4b570de3-cdd1-4656-a535-8fe697defb90",
   "metadata": {},
   "outputs": [],
   "source": []
  },
  {
   "cell_type": "markdown",
   "id": "4796e2be-c23b-4fd4-b5cd-e5b4e0743410",
   "metadata": {},
   "source": [
    "# C.P.A.\n",
    "### Replacing: \"Unknown\"\n",
    "##### Validation\n",
    "- Confirming replacements are present by asking are there \"Unknown\" replacements present in the dataframe?"
   ]
  },
  {
   "cell_type": "code",
   "execution_count": 16,
   "id": "9bc18b2f-a854-4c88-927b-c882fa0b7a4c",
   "metadata": {},
   "outputs": [],
   "source": [
    "# Create new \"replace missing\" version of the dataframe. Replacements choices are as follows: \"Unknown\", 0, mean.\n",
    "miss2_rlp_df1 = miss2_df.fillna(\"Unknown\")"
   ]
  },
  {
   "cell_type": "code",
   "execution_count": 17,
   "id": "adf20331-046c-41f6-b666-258c0a8e425b",
   "metadata": {},
   "outputs": [
    {
     "data": {
      "text/html": [
       "<div>\n",
       "<style scoped>\n",
       "    .dataframe tbody tr th:only-of-type {\n",
       "        vertical-align: middle;\n",
       "    }\n",
       "\n",
       "    .dataframe tbody tr th {\n",
       "        vertical-align: top;\n",
       "    }\n",
       "\n",
       "    .dataframe thead th {\n",
       "        text-align: right;\n",
       "    }\n",
       "</style>\n",
       "<table border=\"1\" class=\"dataframe\">\n",
       "  <thead>\n",
       "    <tr style=\"text-align: right;\">\n",
       "      <th></th>\n",
       "      <th>Total Payments</th>\n",
       "    </tr>\n",
       "    <tr>\n",
       "      <th>Date</th>\n",
       "      <th></th>\n",
       "    </tr>\n",
       "  </thead>\n",
       "  <tbody>\n",
       "    <tr>\n",
       "      <th>2020-01-01</th>\n",
       "      <td>Unknown</td>\n",
       "    </tr>\n",
       "    <tr>\n",
       "      <th>2020-01-02</th>\n",
       "      <td>1.04</td>\n",
       "    </tr>\n",
       "    <tr>\n",
       "      <th>2020-01-03</th>\n",
       "      <td>1.65</td>\n",
       "    </tr>\n",
       "    <tr>\n",
       "      <th>2020-01-03</th>\n",
       "      <td>1.65</td>\n",
       "    </tr>\n",
       "    <tr>\n",
       "      <th>2020-01-03</th>\n",
       "      <td>1.65</td>\n",
       "    </tr>\n",
       "    <tr>\n",
       "      <th>...</th>\n",
       "      <td>...</td>\n",
       "    </tr>\n",
       "    <tr>\n",
       "      <th>2020-12-26</th>\n",
       "      <td>210.13</td>\n",
       "    </tr>\n",
       "    <tr>\n",
       "      <th>2020-12-27</th>\n",
       "      <td>211.08</td>\n",
       "    </tr>\n",
       "    <tr>\n",
       "      <th>2020-12-28</th>\n",
       "      <td>213.27</td>\n",
       "    </tr>\n",
       "    <tr>\n",
       "      <th>2020-12-29</th>\n",
       "      <td>217.28</td>\n",
       "    </tr>\n",
       "    <tr>\n",
       "      <th>2020-12-30</th>\n",
       "      <td>221.46</td>\n",
       "    </tr>\n",
       "  </tbody>\n",
       "</table>\n",
       "<p>368 rows × 1 columns</p>\n",
       "</div>"
      ],
      "text/plain": [
       "           Total Payments\n",
       "Date                     \n",
       "2020-01-01        Unknown\n",
       "2020-01-02           1.04\n",
       "2020-01-03           1.65\n",
       "2020-01-03           1.65\n",
       "2020-01-03           1.65\n",
       "...                   ...\n",
       "2020-12-26         210.13\n",
       "2020-12-27         211.08\n",
       "2020-12-28         213.27\n",
       "2020-12-29         217.28\n",
       "2020-12-30         221.46\n",
       "\n",
       "[368 rows x 1 columns]"
      ]
     },
     "execution_count": 17,
     "metadata": {},
     "output_type": "execute_result"
    }
   ],
   "source": [
    "# Call \"Unknown\" replacement version of the dataframe.\n",
    "miss2_rlp_df1"
   ]
  },
  {
   "cell_type": "markdown",
   "id": "0544aa21-51f9-4c61-9035-01c3b1df0e15",
   "metadata": {},
   "source": [
    "# C.P.A.\n",
    "## Validation\n",
    "##### Replacing: \"Unknown\"\n",
    "\n",
    "- Confirming replacements are present by asking are there __\"Unknown\"__ replacements in the dataframe?"
   ]
  },
  {
   "cell_type": "code",
   "execution_count": null,
   "id": "5a12a081-1db3-4cd9-9683-9de0cbc38afa",
   "metadata": {},
   "outputs": [],
   "source": []
  },
  {
   "cell_type": "code",
   "execution_count": null,
   "id": "7efe7c24-dc9e-4b73-8498-0b9c617c23cd",
   "metadata": {},
   "outputs": [],
   "source": []
  },
  {
   "cell_type": "code",
   "execution_count": null,
   "id": "7800b8a0-8c3a-4660-977e-427fb3651166",
   "metadata": {},
   "outputs": [],
   "source": []
  },
  {
   "cell_type": "code",
   "execution_count": null,
   "id": "5c522cf4-29c9-4dc2-a466-9460c32a82f4",
   "metadata": {},
   "outputs": [],
   "source": []
  },
  {
   "cell_type": "markdown",
   "id": "8a17aca1-9bdb-4e41-850c-4bc0277367ac",
   "metadata": {},
   "source": [
    "# C.P.A.\n",
    "### Replacing: Zero = 0\n",
    "##### Validation\n",
    "- Confirming replacements are present by asking are there 0 replacements present in the dataframe?"
   ]
  },
  {
   "cell_type": "code",
   "execution_count": 22,
   "id": "c02bf5b7-1c06-48b8-8974-3da0872a3f9e",
   "metadata": {},
   "outputs": [],
   "source": [
    "# Create new \"replace missing\" version of the dataframe. Replacements choices are as follows: \"Unknown\", 0, mean.\n",
    "miss2_rlp_df2 = miss2_df.fillna(0)"
   ]
  },
  {
   "cell_type": "code",
   "execution_count": 23,
   "id": "5436b0fe-2ce1-453f-86cf-b8824a12530e",
   "metadata": {},
   "outputs": [
    {
     "data": {
      "text/html": [
       "<div>\n",
       "<style scoped>\n",
       "    .dataframe tbody tr th:only-of-type {\n",
       "        vertical-align: middle;\n",
       "    }\n",
       "\n",
       "    .dataframe tbody tr th {\n",
       "        vertical-align: top;\n",
       "    }\n",
       "\n",
       "    .dataframe thead th {\n",
       "        text-align: right;\n",
       "    }\n",
       "</style>\n",
       "<table border=\"1\" class=\"dataframe\">\n",
       "  <thead>\n",
       "    <tr style=\"text-align: right;\">\n",
       "      <th></th>\n",
       "      <th>Total Payments</th>\n",
       "    </tr>\n",
       "    <tr>\n",
       "      <th>Date</th>\n",
       "      <th></th>\n",
       "    </tr>\n",
       "  </thead>\n",
       "  <tbody>\n",
       "    <tr>\n",
       "      <th>2020-01-01</th>\n",
       "      <td>0.00</td>\n",
       "    </tr>\n",
       "    <tr>\n",
       "      <th>2020-01-02</th>\n",
       "      <td>1.04</td>\n",
       "    </tr>\n",
       "    <tr>\n",
       "      <th>2020-01-03</th>\n",
       "      <td>1.65</td>\n",
       "    </tr>\n",
       "    <tr>\n",
       "      <th>2020-01-03</th>\n",
       "      <td>1.65</td>\n",
       "    </tr>\n",
       "    <tr>\n",
       "      <th>2020-01-03</th>\n",
       "      <td>1.65</td>\n",
       "    </tr>\n",
       "    <tr>\n",
       "      <th>...</th>\n",
       "      <td>...</td>\n",
       "    </tr>\n",
       "    <tr>\n",
       "      <th>2020-12-26</th>\n",
       "      <td>210.13</td>\n",
       "    </tr>\n",
       "    <tr>\n",
       "      <th>2020-12-27</th>\n",
       "      <td>211.08</td>\n",
       "    </tr>\n",
       "    <tr>\n",
       "      <th>2020-12-28</th>\n",
       "      <td>213.27</td>\n",
       "    </tr>\n",
       "    <tr>\n",
       "      <th>2020-12-29</th>\n",
       "      <td>217.28</td>\n",
       "    </tr>\n",
       "    <tr>\n",
       "      <th>2020-12-30</th>\n",
       "      <td>221.46</td>\n",
       "    </tr>\n",
       "  </tbody>\n",
       "</table>\n",
       "<p>368 rows × 1 columns</p>\n",
       "</div>"
      ],
      "text/plain": [
       "            Total Payments\n",
       "Date                      \n",
       "2020-01-01            0.00\n",
       "2020-01-02            1.04\n",
       "2020-01-03            1.65\n",
       "2020-01-03            1.65\n",
       "2020-01-03            1.65\n",
       "...                    ...\n",
       "2020-12-26          210.13\n",
       "2020-12-27          211.08\n",
       "2020-12-28          213.27\n",
       "2020-12-29          217.28\n",
       "2020-12-30          221.46\n",
       "\n",
       "[368 rows x 1 columns]"
      ]
     },
     "execution_count": 23,
     "metadata": {},
     "output_type": "execute_result"
    }
   ],
   "source": [
    "# Call \"Unknown\" replacement version of the dataframe.\n",
    "miss2_rlp_df2"
   ]
  },
  {
   "cell_type": "markdown",
   "id": "35223cc3-3827-403c-95bd-84e06dab6f45",
   "metadata": {},
   "source": [
    "# C.P.A.\n",
    "## Validation\n",
    "##### Replacing: 0\n",
    "\n",
    "- Confirming replacements are present by asking are there 0 replacements in the dataframe? Do a checksum procedure."
   ]
  },
  {
   "cell_type": "code",
   "execution_count": null,
   "id": "aa8937bb-b07b-4854-8ada-0d71233ce0eb",
   "metadata": {},
   "outputs": [],
   "source": [
    "# Checksum procedure"
   ]
  },
  {
   "cell_type": "code",
   "execution_count": null,
   "id": "289b1ab3-cd32-49e3-88b1-8b31160f43ac",
   "metadata": {},
   "outputs": [],
   "source": []
  },
  {
   "cell_type": "code",
   "execution_count": null,
   "id": "80619ff4-d0a2-45ea-9675-edf06a197d18",
   "metadata": {},
   "outputs": [],
   "source": []
  },
  {
   "cell_type": "code",
   "execution_count": null,
   "id": "70c39a44-cf06-46b5-b6cc-f1ce63ab997d",
   "metadata": {},
   "outputs": [],
   "source": []
  },
  {
   "cell_type": "code",
   "execution_count": null,
   "id": "b912f467-d49e-4448-910b-58917a811ff9",
   "metadata": {},
   "outputs": [],
   "source": []
  },
  {
   "cell_type": "markdown",
   "id": "da3508fb-6fa7-42a9-a19b-6d69f3cbc70a",
   "metadata": {},
   "source": [
    "# C.P.A.\n",
    "### Replacing: mean or average amount\n",
    "##### Validation\n",
    "- Confirming replacements are present by asking are there mean amounts present in the dataframe?"
   ]
  },
  {
   "cell_type": "code",
   "execution_count": 26,
   "id": "48c66013-f6e5-45bd-a17f-67b0b26b32c8",
   "metadata": {},
   "outputs": [],
   "source": [
    "# Create new \"replace missing\" version of the dataframe. Replacements choices are as follows: \"Unknown\", 0, mean.\n",
    "miss2_rlp_df3 = miss2_df.fillna(miss2_df.mean())"
   ]
  },
  {
   "cell_type": "code",
   "execution_count": 27,
   "id": "97d6978f-5e54-4dba-bfd4-96901d6c97e2",
   "metadata": {
    "tags": []
   },
   "outputs": [
    {
     "data": {
      "text/html": [
       "<div>\n",
       "<style scoped>\n",
       "    .dataframe tbody tr th:only-of-type {\n",
       "        vertical-align: middle;\n",
       "    }\n",
       "\n",
       "    .dataframe tbody tr th {\n",
       "        vertical-align: top;\n",
       "    }\n",
       "\n",
       "    .dataframe thead th {\n",
       "        text-align: right;\n",
       "    }\n",
       "</style>\n",
       "<table border=\"1\" class=\"dataframe\">\n",
       "  <thead>\n",
       "    <tr style=\"text-align: right;\">\n",
       "      <th></th>\n",
       "      <th>Total Payments</th>\n",
       "    </tr>\n",
       "    <tr>\n",
       "      <th>Date</th>\n",
       "      <th></th>\n",
       "    </tr>\n",
       "  </thead>\n",
       "  <tbody>\n",
       "    <tr>\n",
       "      <th>2020-01-01</th>\n",
       "      <td>116.385866</td>\n",
       "    </tr>\n",
       "    <tr>\n",
       "      <th>2020-01-02</th>\n",
       "      <td>1.040000</td>\n",
       "    </tr>\n",
       "    <tr>\n",
       "      <th>2020-01-03</th>\n",
       "      <td>1.650000</td>\n",
       "    </tr>\n",
       "    <tr>\n",
       "      <th>2020-01-03</th>\n",
       "      <td>1.650000</td>\n",
       "    </tr>\n",
       "    <tr>\n",
       "      <th>2020-01-03</th>\n",
       "      <td>1.650000</td>\n",
       "    </tr>\n",
       "    <tr>\n",
       "      <th>...</th>\n",
       "      <td>...</td>\n",
       "    </tr>\n",
       "    <tr>\n",
       "      <th>2020-12-26</th>\n",
       "      <td>210.130000</td>\n",
       "    </tr>\n",
       "    <tr>\n",
       "      <th>2020-12-27</th>\n",
       "      <td>211.080000</td>\n",
       "    </tr>\n",
       "    <tr>\n",
       "      <th>2020-12-28</th>\n",
       "      <td>213.270000</td>\n",
       "    </tr>\n",
       "    <tr>\n",
       "      <th>2020-12-29</th>\n",
       "      <td>217.280000</td>\n",
       "    </tr>\n",
       "    <tr>\n",
       "      <th>2020-12-30</th>\n",
       "      <td>221.460000</td>\n",
       "    </tr>\n",
       "  </tbody>\n",
       "</table>\n",
       "<p>368 rows × 1 columns</p>\n",
       "</div>"
      ],
      "text/plain": [
       "            Total Payments\n",
       "Date                      \n",
       "2020-01-01      116.385866\n",
       "2020-01-02        1.040000\n",
       "2020-01-03        1.650000\n",
       "2020-01-03        1.650000\n",
       "2020-01-03        1.650000\n",
       "...                    ...\n",
       "2020-12-26      210.130000\n",
       "2020-12-27      211.080000\n",
       "2020-12-28      213.270000\n",
       "2020-12-29      217.280000\n",
       "2020-12-30      221.460000\n",
       "\n",
       "[368 rows x 1 columns]"
      ]
     },
     "execution_count": 27,
     "metadata": {},
     "output_type": "execute_result"
    }
   ],
   "source": [
    "# Call \"Unknown\" replacement version of the dataframe.\n",
    "miss2_rlp_df3"
   ]
  },
  {
   "cell_type": "markdown",
   "id": "bd7d3fa6-b1cd-48e3-bb58-5d4ec6005653",
   "metadata": {
    "tags": []
   },
   "source": [
    "# C.P.A.\n",
    "## Validation\n",
    "##### Replacing: mean or average amount\n",
    "\n",
    "- Confirming replacements are present by asking are there mean amount replacements in the dataframe?"
   ]
  },
  {
   "cell_type": "code",
   "execution_count": null,
   "id": "1087aced-75dc-42e1-a71f-b01dd71cafdf",
   "metadata": {},
   "outputs": [],
   "source": [
    "# Checcksumn procedure?"
   ]
  }
 ],
 "metadata": {
  "kernelspec": {
   "display_name": "Python 3 (ipykernel)",
   "language": "python",
   "name": "python3"
  },
  "language_info": {
   "codemirror_mode": {
    "name": "ipython",
    "version": 3
   },
   "file_extension": ".py",
   "mimetype": "text/x-python",
   "name": "python",
   "nbconvert_exporter": "python",
   "pygments_lexer": "ipython3",
   "version": "3.9.15"
  }
 },
 "nbformat": 4,
 "nbformat_minor": 5
}
