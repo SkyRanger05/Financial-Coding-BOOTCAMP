{
 "cells": [
  {
   "cell_type": "code",
   "execution_count": 51,
   "metadata": {},
   "outputs": [],
   "source": [
    "# import os\n",
    "# os.getcwd()"
   ]
  },
  {
   "cell_type": "code",
   "execution_count": 52,
   "metadata": {
    "tags": []
   },
   "outputs": [],
   "source": [
    "import pandas as pd\n",
    "from pathlib import Path"
   ]
  },
  {
   "cell_type": "markdown",
   "metadata": {},
   "source": [
    "# Reading a CSV file as a Pandas DataFrame"
   ]
  },
  {
   "cell_type": "markdown",
   "metadata": {},
   "source": [
    "### Step 1: Create a path to the file"
   ]
  },
  {
   "cell_type": "code",
   "execution_count": 53,
   "metadata": {},
   "outputs": [],
   "source": [
    "uu = Path(\"C:/Users/admin/Desktop/FinTech-Workspace/Class_Activities_copies/Module3/Activities/01-Ins_Reading_CSVs/Resources/sales.csv\")\n",
    "# (\"C:/Users/admin/Desktop/FinTech-Workspace/Class_Activities_copies/Module3/Activities/01-Ins_Reading_CSVs/Resources/sales.csv\")\n",
    "# reading_csvs.ipynb\n",
    "# \"C:\\Users\\admin\\Desktop\\FinTech-Workspace\\Class_Activities_copies\\Module3\\Activities\\01-Ins_Reading_CSVs\\Resources\\sales.csv\""
   ]
  },
  {
   "cell_type": "markdown",
   "metadata": {},
   "source": [
    "### Step 2: Read the CSV into a DataFrame using Pandas"
   ]
  },
  {
   "cell_type": "code",
   "execution_count": 54,
   "metadata": {},
   "outputs": [
    {
     "data": {
      "text/html": [
       "<div>\n",
       "<style scoped>\n",
       "    .dataframe tbody tr th:only-of-type {\n",
       "        vertical-align: middle;\n",
       "    }\n",
       "\n",
       "    .dataframe tbody tr th {\n",
       "        vertical-align: top;\n",
       "    }\n",
       "\n",
       "    .dataframe thead th {\n",
       "        text-align: right;\n",
       "    }\n",
       "</style>\n",
       "<table border=\"1\" class=\"dataframe\">\n",
       "  <thead>\n",
       "    <tr style=\"text-align: right;\">\n",
       "      <th></th>\n",
       "      <th>FullName</th>\n",
       "      <th>Email</th>\n",
       "      <th>Address</th>\n",
       "      <th>Zip</th>\n",
       "      <th>CreditCard</th>\n",
       "      <th>SalePrice</th>\n",
       "    </tr>\n",
       "  </thead>\n",
       "  <tbody>\n",
       "    <tr>\n",
       "      <th>0</th>\n",
       "      <td>Elwanda White</td>\n",
       "      <td>alyre2036@live.com</td>\n",
       "      <td>352 Lakeshore Mall</td>\n",
       "      <td>9236</td>\n",
       "      <td>5327 0855 9720 7055</td>\n",
       "      <td>84.33</td>\n",
       "    </tr>\n",
       "    <tr>\n",
       "      <th>1</th>\n",
       "      <td>Lyndon Elliott</td>\n",
       "      <td>arrowy1873@outlook.com</td>\n",
       "      <td>1234 Avery Plaza</td>\n",
       "      <td>1330</td>\n",
       "      <td>3717 498777 19636</td>\n",
       "      <td>879.95</td>\n",
       "    </tr>\n",
       "    <tr>\n",
       "      <th>2</th>\n",
       "      <td>Daisey Sellers</td>\n",
       "      <td>toucan2024@outlook.com</td>\n",
       "      <td>469 Elwood Street</td>\n",
       "      <td>7631</td>\n",
       "      <td>3758 579477 35734</td>\n",
       "      <td>907.58</td>\n",
       "    </tr>\n",
       "    <tr>\n",
       "      <th>3</th>\n",
       "      <td>Issac Reeves</td>\n",
       "      <td>asarin1958@gmail.com</td>\n",
       "      <td>565 Phelps Field</td>\n",
       "      <td>81168</td>\n",
       "      <td>4400 0380 4162 1622</td>\n",
       "      <td>545.88</td>\n",
       "    </tr>\n",
       "    <tr>\n",
       "      <th>4</th>\n",
       "      <td>Bradford Kinney</td>\n",
       "      <td>mibound1801@yandex.com</td>\n",
       "      <td>853 Mission Rock Freeway</td>\n",
       "      <td>41721</td>\n",
       "      <td>3712 263405 60178</td>\n",
       "      <td>517.49</td>\n",
       "    </tr>\n",
       "  </tbody>\n",
       "</table>\n",
       "</div>"
      ],
      "text/plain": [
       "          FullName                   Email                   Address    Zip  \\\n",
       "0    Elwanda White      alyre2036@live.com        352 Lakeshore Mall   9236   \n",
       "1   Lyndon Elliott  arrowy1873@outlook.com          1234 Avery Plaza   1330   \n",
       "2   Daisey Sellers  toucan2024@outlook.com         469 Elwood Street   7631   \n",
       "3     Issac Reeves    asarin1958@gmail.com          565 Phelps Field  81168   \n",
       "4  Bradford Kinney  mibound1801@yandex.com  853 Mission Rock Freeway  41721   \n",
       "\n",
       "            CreditCard  SalePrice  \n",
       "0  5327 0855 9720 7055      84.33  \n",
       "1    3717 498777 19636     879.95  \n",
       "2    3758 579477 35734     907.58  \n",
       "3  4400 0380 4162 1622     545.88  \n",
       "4    3712 263405 60178     517.49  "
      ]
     },
     "execution_count": 54,
     "metadata": {},
     "output_type": "execute_result"
    }
   ],
   "source": [
    "sales_dataframe = pd.read_csv(uu)\n",
    "sales_dataframe.head()"
   ]
  },
  {
   "cell_type": "markdown",
   "metadata": {},
   "source": [
    "- - -"
   ]
  },
  {
   "cell_type": "markdown",
   "metadata": {},
   "source": [
    "# Reading a CSV with no Header"
   ]
  },
  {
   "cell_type": "code",
   "execution_count": 50,
   "metadata": {},
   "outputs": [
    {
     "data": {
      "text/html": [
       "<div>\n",
       "<style scoped>\n",
       "    .dataframe tbody tr th:only-of-type {\n",
       "        vertical-align: middle;\n",
       "    }\n",
       "\n",
       "    .dataframe tbody tr th {\n",
       "        vertical-align: top;\n",
       "    }\n",
       "\n",
       "    .dataframe thead th {\n",
       "        text-align: right;\n",
       "    }\n",
       "</style>\n",
       "<table border=\"1\" class=\"dataframe\">\n",
       "  <thead>\n",
       "    <tr style=\"text-align: right;\">\n",
       "      <th></th>\n",
       "      <th>Elwanda White</th>\n",
       "      <th>alyre2036@live.com</th>\n",
       "      <th>352 Lakeshore Mall</th>\n",
       "      <th>9236</th>\n",
       "      <th>5327 0855 9720 7055</th>\n",
       "      <th>84.33</th>\n",
       "    </tr>\n",
       "  </thead>\n",
       "  <tbody>\n",
       "    <tr>\n",
       "      <th>94</th>\n",
       "      <td>Basil Rios</td>\n",
       "      <td>holloo1814@yahoo.com</td>\n",
       "      <td>605 Sloat Terrace</td>\n",
       "      <td>8108</td>\n",
       "      <td>5581 7245 8451 9384</td>\n",
       "      <td>937.14</td>\n",
       "    </tr>\n",
       "    <tr>\n",
       "      <th>95</th>\n",
       "      <td>Hipolito Rios</td>\n",
       "      <td>calefacient2049@gmail.com</td>\n",
       "      <td>1248 Fountain Boulevard</td>\n",
       "      <td>37077</td>\n",
       "      <td>2333 0264 5343 2022</td>\n",
       "      <td>645.82</td>\n",
       "    </tr>\n",
       "    <tr>\n",
       "      <th>96</th>\n",
       "      <td>Clayton Robertson</td>\n",
       "      <td>coner2015@live.com</td>\n",
       "      <td>230 Paper Parkway</td>\n",
       "      <td>57242</td>\n",
       "      <td>2414 3939 6501 2607</td>\n",
       "      <td>128.73</td>\n",
       "    </tr>\n",
       "    <tr>\n",
       "      <th>97</th>\n",
       "      <td>Tony Chandler</td>\n",
       "      <td>sexillion2061@live.com</td>\n",
       "      <td>118 Flood Plantation</td>\n",
       "      <td>70135</td>\n",
       "      <td>5581 8059 1883 1841</td>\n",
       "      <td>820.00</td>\n",
       "    </tr>\n",
       "    <tr>\n",
       "      <th>98</th>\n",
       "      <td>Cuc Mcgowan</td>\n",
       "      <td>dispatched1820@gmail.com</td>\n",
       "      <td>87 Louisiana Grove</td>\n",
       "      <td>70959</td>\n",
       "      <td>2678 4140 5531 3894</td>\n",
       "      <td>764.69</td>\n",
       "    </tr>\n",
       "  </tbody>\n",
       "</table>\n",
       "</div>"
      ],
      "text/plain": [
       "        Elwanda White         alyre2036@live.com       352 Lakeshore Mall  \\\n",
       "94         Basil Rios       holloo1814@yahoo.com        605 Sloat Terrace   \n",
       "95      Hipolito Rios  calefacient2049@gmail.com  1248 Fountain Boulevard   \n",
       "96  Clayton Robertson         coner2015@live.com        230 Paper Parkway   \n",
       "97      Tony Chandler     sexillion2061@live.com     118 Flood Plantation   \n",
       "98        Cuc Mcgowan   dispatched1820@gmail.com       87 Louisiana Grove   \n",
       "\n",
       "     9236  5327 0855 9720 7055   84.33  \n",
       "94   8108  5581 7245 8451 9384  937.14  \n",
       "95  37077  2333 0264 5343 2022  645.82  \n",
       "96  57242  2414 3939 6501 2607  128.73  \n",
       "97  70135  5581 8059 1883 1841  820.00  \n",
       "98  70959  2678 4140 5531 3894  764.69  "
      ]
     },
     "execution_count": 50,
     "metadata": {},
     "output_type": "execute_result"
    }
   ],
   "source": [
    "sales_dataframe.tail()"
   ]
  },
  {
   "cell_type": "code",
   "execution_count": 48,
   "metadata": {},
   "outputs": [],
   "source": [
    "# Without a header in the CSV, Pandas will use the first row as the header\n",
    "yy = Path(\"C:/Users/admin/Desktop/FinTech-Workspace/Class_Activities_copies/Module3/Activities/01-Ins_Reading_CSVs/Resources/sales_no_header.csv\")"
   ]
  },
  {
   "cell_type": "code",
   "execution_count": 49,
   "metadata": {},
   "outputs": [
    {
     "data": {
      "text/html": [
       "<div>\n",
       "<style scoped>\n",
       "    .dataframe tbody tr th:only-of-type {\n",
       "        vertical-align: middle;\n",
       "    }\n",
       "\n",
       "    .dataframe tbody tr th {\n",
       "        vertical-align: top;\n",
       "    }\n",
       "\n",
       "    .dataframe thead th {\n",
       "        text-align: right;\n",
       "    }\n",
       "</style>\n",
       "<table border=\"1\" class=\"dataframe\">\n",
       "  <thead>\n",
       "    <tr style=\"text-align: right;\">\n",
       "      <th></th>\n",
       "      <th>Elwanda White</th>\n",
       "      <th>alyre2036@live.com</th>\n",
       "      <th>352 Lakeshore Mall</th>\n",
       "      <th>9236</th>\n",
       "      <th>5327 0855 9720 7055</th>\n",
       "      <th>84.33</th>\n",
       "    </tr>\n",
       "  </thead>\n",
       "  <tbody>\n",
       "    <tr>\n",
       "      <th>0</th>\n",
       "      <td>Lyndon Elliott</td>\n",
       "      <td>arrowy1873@outlook.com</td>\n",
       "      <td>1234 Avery Plaza</td>\n",
       "      <td>1330</td>\n",
       "      <td>3717 498777 19636</td>\n",
       "      <td>879.95</td>\n",
       "    </tr>\n",
       "    <tr>\n",
       "      <th>1</th>\n",
       "      <td>Daisey Sellers</td>\n",
       "      <td>toucan2024@outlook.com</td>\n",
       "      <td>469 Elwood Street</td>\n",
       "      <td>7631</td>\n",
       "      <td>3758 579477 35734</td>\n",
       "      <td>907.58</td>\n",
       "    </tr>\n",
       "    <tr>\n",
       "      <th>2</th>\n",
       "      <td>Issac Reeves</td>\n",
       "      <td>asarin1958@gmail.com</td>\n",
       "      <td>565 Phelps Field</td>\n",
       "      <td>81168</td>\n",
       "      <td>4400 0380 4162 1622</td>\n",
       "      <td>545.88</td>\n",
       "    </tr>\n",
       "    <tr>\n",
       "      <th>3</th>\n",
       "      <td>Bradford Kinney</td>\n",
       "      <td>mibound1801@yandex.com</td>\n",
       "      <td>853 Mission Rock Freeway</td>\n",
       "      <td>41721</td>\n",
       "      <td>3712 263405 60178</td>\n",
       "      <td>517.49</td>\n",
       "    </tr>\n",
       "    <tr>\n",
       "      <th>4</th>\n",
       "      <td>Fermina Cobb</td>\n",
       "      <td>kingfisher2013@live.com</td>\n",
       "      <td>929 Prague Trail</td>\n",
       "      <td>16625</td>\n",
       "      <td>2351 7156 8193 8639</td>\n",
       "      <td>889.95</td>\n",
       "    </tr>\n",
       "  </tbody>\n",
       "</table>\n",
       "</div>"
      ],
      "text/plain": [
       "     Elwanda White       alyre2036@live.com        352 Lakeshore Mall   9236  \\\n",
       "0   Lyndon Elliott   arrowy1873@outlook.com          1234 Avery Plaza   1330   \n",
       "1   Daisey Sellers   toucan2024@outlook.com         469 Elwood Street   7631   \n",
       "2     Issac Reeves     asarin1958@gmail.com          565 Phelps Field  81168   \n",
       "3  Bradford Kinney   mibound1801@yandex.com  853 Mission Rock Freeway  41721   \n",
       "4     Fermina Cobb  kingfisher2013@live.com          929 Prague Trail  16625   \n",
       "\n",
       "   5327 0855 9720 7055   84.33  \n",
       "0    3717 498777 19636  879.95  \n",
       "1    3758 579477 35734  907.58  \n",
       "2  4400 0380 4162 1622  545.88  \n",
       "3    3712 263405 60178  517.49  \n",
       "4  2351 7156 8193 8639  889.95  "
      ]
     },
     "execution_count": 49,
     "metadata": {},
     "output_type": "execute_result"
    }
   ],
   "source": [
    "# Read the file without a header\n",
    "sales_dataframe = pd.read_csv(yy)\n",
    "sales_dataframe.head()"
   ]
  },
  {
   "cell_type": "code",
   "execution_count": null,
   "metadata": {},
   "outputs": [],
   "source": [
    "# Rewrite the column names\n"
   ]
  }
 ],
 "metadata": {
  "kernelspec": {
   "display_name": "Python (dev)",
   "language": "python",
   "name": "dev"
  },
  "language_info": {
   "codemirror_mode": {
    "name": "ipython",
    "version": 3
   },
   "file_extension": ".py",
   "mimetype": "text/x-python",
   "name": "python",
   "nbconvert_exporter": "python",
   "pygments_lexer": "ipython3",
   "version": "3.9.15"
  }
 },
 "nbformat": 4,
 "nbformat_minor": 4
}
