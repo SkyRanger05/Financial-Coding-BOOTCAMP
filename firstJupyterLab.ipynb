{
 "cells": [
  {
   "cell_type": "code",
   "execution_count": 1,
   "id": "4e96f5b0-8721-4dd9-91c5-0cd570f2050e",
   "metadata": {},
   "outputs": [],
   "source": [
    "import pandas as pd\n",
    "from pathlib import Path"
   ]
  },
  {
   "cell_type": "code",
   "execution_count": 2,
   "id": "8d5a4ede-7c32-43e3-a072-50f93b1ca860",
   "metadata": {},
   "outputs": [],
   "source": [
    "path_object_p = Path(\"C:/Users/admin/Desktop/FinTech-Workspace/PowerPoint_sample/Module3/01_Import_Data/sales.csv\")"
   ]
  },
  {
   "cell_type": "code",
   "execution_count": 3,
   "id": "3073c499-fe1f-49aa-bf76-e9aadd7e0359",
   "metadata": {},
   "outputs": [
    {
     "data": {
      "text/html": [
       "<div>\n",
       "<style scoped>\n",
       "    .dataframe tbody tr th:only-of-type {\n",
       "        vertical-align: middle;\n",
       "    }\n",
       "\n",
       "    .dataframe tbody tr th {\n",
       "        vertical-align: top;\n",
       "    }\n",
       "\n",
       "    .dataframe thead th {\n",
       "        text-align: right;\n",
       "    }\n",
       "</style>\n",
       "<table border=\"1\" class=\"dataframe\">\n",
       "  <thead>\n",
       "    <tr style=\"text-align: right;\">\n",
       "      <th></th>\n",
       "      <th>FullName</th>\n",
       "      <th>Email</th>\n",
       "      <th>Zip</th>\n",
       "      <th>SalePrice</th>\n",
       "    </tr>\n",
       "  </thead>\n",
       "  <tbody>\n",
       "    <tr>\n",
       "      <th>0</th>\n",
       "      <td>Elwanda White</td>\n",
       "      <td>alyre2036@live.com</td>\n",
       "      <td>9236</td>\n",
       "      <td>84.33</td>\n",
       "    </tr>\n",
       "    <tr>\n",
       "      <th>1</th>\n",
       "      <td>Lyndon Elliott</td>\n",
       "      <td>arrowy1873@outlook.com</td>\n",
       "      <td>1330</td>\n",
       "      <td>879.95</td>\n",
       "    </tr>\n",
       "    <tr>\n",
       "      <th>2</th>\n",
       "      <td>Daisey Sellers</td>\n",
       "      <td>toucan2024@outlook.com</td>\n",
       "      <td>7631</td>\n",
       "      <td>907.58</td>\n",
       "    </tr>\n",
       "    <tr>\n",
       "      <th>3</th>\n",
       "      <td>Issac Reeves</td>\n",
       "      <td>asarin1958@gmail.com</td>\n",
       "      <td>81168</td>\n",
       "      <td>545.88</td>\n",
       "    </tr>\n",
       "    <tr>\n",
       "      <th>4</th>\n",
       "      <td>Bradford Kinney</td>\n",
       "      <td>mibound1801@yandex.com</td>\n",
       "      <td>41721</td>\n",
       "      <td>517.49</td>\n",
       "    </tr>\n",
       "  </tbody>\n",
       "</table>\n",
       "</div>"
      ],
      "text/plain": [
       "          FullName                   Email    Zip  SalePrice\n",
       "0    Elwanda White      alyre2036@live.com   9236      84.33\n",
       "1   Lyndon Elliott  arrowy1873@outlook.com   1330     879.95\n",
       "2   Daisey Sellers  toucan2024@outlook.com   7631     907.58\n",
       "3     Issac Reeves    asarin1958@gmail.com  81168     545.88\n",
       "4  Bradford Kinney  mibound1801@yandex.com  41721     517.49"
      ]
     },
     "execution_count": 3,
     "metadata": {},
     "output_type": "execute_result"
    }
   ],
   "source": [
    "sales_dataframe = pd.read_csv(path_object_p)\n",
    "sales_dataframe.head()"
   ]
  },
  {
   "cell_type": "code",
   "execution_count": 4,
   "id": "a9164b21-2470-442b-97e8-4c450071c551",
   "metadata": {},
   "outputs": [
    {
     "data": {
      "text/html": [
       "<div>\n",
       "<style scoped>\n",
       "    .dataframe tbody tr th:only-of-type {\n",
       "        vertical-align: middle;\n",
       "    }\n",
       "\n",
       "    .dataframe tbody tr th {\n",
       "        vertical-align: top;\n",
       "    }\n",
       "\n",
       "    .dataframe thead th {\n",
       "        text-align: right;\n",
       "    }\n",
       "</style>\n",
       "<table border=\"1\" class=\"dataframe\">\n",
       "  <thead>\n",
       "    <tr style=\"text-align: right;\">\n",
       "      <th></th>\n",
       "      <th>FullName</th>\n",
       "      <th>Email</th>\n",
       "      <th>Zip</th>\n",
       "      <th>SalePrice</th>\n",
       "    </tr>\n",
       "  </thead>\n",
       "  <tbody>\n",
       "    <tr>\n",
       "      <th>95</th>\n",
       "      <td>Basil Rios</td>\n",
       "      <td>holloo1814@yahoo.com</td>\n",
       "      <td>8108</td>\n",
       "      <td>937.14</td>\n",
       "    </tr>\n",
       "    <tr>\n",
       "      <th>96</th>\n",
       "      <td>Hipolito Rios</td>\n",
       "      <td>calefacient2049@gmail.com</td>\n",
       "      <td>37077</td>\n",
       "      <td>645.82</td>\n",
       "    </tr>\n",
       "    <tr>\n",
       "      <th>97</th>\n",
       "      <td>Clayton Robertson</td>\n",
       "      <td>coner2015@live.com</td>\n",
       "      <td>57242</td>\n",
       "      <td>128.73</td>\n",
       "    </tr>\n",
       "    <tr>\n",
       "      <th>98</th>\n",
       "      <td>Tony Chandler</td>\n",
       "      <td>sexillion2061@live.com</td>\n",
       "      <td>70135</td>\n",
       "      <td>820.00</td>\n",
       "    </tr>\n",
       "    <tr>\n",
       "      <th>99</th>\n",
       "      <td>Cuc Mcgowan</td>\n",
       "      <td>dispatched1820@gmail.com</td>\n",
       "      <td>70959</td>\n",
       "      <td>764.69</td>\n",
       "    </tr>\n",
       "  </tbody>\n",
       "</table>\n",
       "</div>"
      ],
      "text/plain": [
       "             FullName                      Email    Zip  SalePrice\n",
       "95         Basil Rios       holloo1814@yahoo.com   8108     937.14\n",
       "96      Hipolito Rios  calefacient2049@gmail.com  37077     645.82\n",
       "97  Clayton Robertson         coner2015@live.com  57242     128.73\n",
       "98      Tony Chandler     sexillion2061@live.com  70135     820.00\n",
       "99        Cuc Mcgowan   dispatched1820@gmail.com  70959     764.69"
      ]
     },
     "execution_count": 4,
     "metadata": {},
     "output_type": "execute_result"
    }
   ],
   "source": [
    "sales_dataframe.tail()"
   ]
  },
  {
   "cell_type": "code",
   "execution_count": 5,
   "id": "119d7731-7d9e-4fb7-aa47-dd6d08108f8d",
   "metadata": {},
   "outputs": [],
   "source": [
    "# C:/Users/admin/Desktop/Git/Financial-Coding-BOOTCAMP/firstJupyterLab.ipynb"
   ]
  }
 ],
 "metadata": {
  "kernelspec": {
   "display_name": "Python (dev)",
   "language": "python",
   "name": "dev"
  },
  "language_info": {
   "codemirror_mode": {
    "name": "ipython",
    "version": 3
   },
   "file_extension": ".py",
   "mimetype": "text/x-python",
   "name": "python",
   "nbconvert_exporter": "python",
   "pygments_lexer": "ipython3",
   "version": "3.9.15"
  }
 },
 "nbformat": 4,
 "nbformat_minor": 5
}
